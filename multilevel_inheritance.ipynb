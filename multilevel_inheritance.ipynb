{
 "cells": [
  {
   "cell_type": "code",
   "execution_count": 3,
   "metadata": {},
   "outputs": [
    {
     "name": "stdout",
     "output_type": "stream",
     "text": [
      "Parent\n",
      "Parent\n",
      "Parent\n"
     ]
    }
   ],
   "source": [
    "class ver1:\n",
    "    a=10\n",
    "    def __init__(self):\n",
    "        print(\"Parent\")\n",
    "    def display(self):\n",
    "        print(\"parent class\",self.a)\n",
    "\n",
    "v1=ver1()\n",
    "\n",
    "\n",
    "class ver2(ver1):\n",
    "    b=20\n",
    "    def display(self):\n",
    "        print(\"child class\",self.a,self.b)\n",
    "\n",
    "v2=ver2()\n",
    "\n",
    "class ver3(ver2):\n",
    "    c=30\n",
    "    def display(self):\n",
    "        print(\"child child class\",self.a,self.b,self.c)\n",
    "\n",
    "v3=ver3()"
   ]
  },
  {
   "cell_type": "code",
   "execution_count": 4,
   "metadata": {},
   "outputs": [
    {
     "name": "stdout",
     "output_type": "stream",
     "text": [
      "10\n"
     ]
    },
    {
     "ename": "AttributeError",
     "evalue": "'ver1' object has no attribute 'b'",
     "output_type": "error",
     "traceback": [
      "\u001b[1;31m---------------------------------------------------------------------------\u001b[0m",
      "\u001b[1;31mAttributeError\u001b[0m                            Traceback (most recent call last)",
      "Cell \u001b[1;32mIn[4], line 2\u001b[0m\n\u001b[0;32m      1\u001b[0m \u001b[39mprint\u001b[39m(v1\u001b[39m.\u001b[39ma)\n\u001b[1;32m----> 2\u001b[0m \u001b[39mprint\u001b[39m(v1\u001b[39m.\u001b[39;49mb)\n\u001b[0;32m      3\u001b[0m \u001b[39mprint\u001b[39m(v1\u001b[39m.\u001b[39mc)\n",
      "\u001b[1;31mAttributeError\u001b[0m: 'ver1' object has no attribute 'b'"
     ]
    }
   ],
   "source": [
    "print(v1.a)\n",
    "print(v1.b) #no attributes\n",
    "print(v1.c) #no attributes"
   ]
  },
  {
   "cell_type": "code",
   "execution_count": 5,
   "metadata": {},
   "outputs": [
    {
     "name": "stdout",
     "output_type": "stream",
     "text": [
      "10\n",
      "20\n"
     ]
    },
    {
     "ename": "AttributeError",
     "evalue": "'ver2' object has no attribute 'c'",
     "output_type": "error",
     "traceback": [
      "\u001b[1;31m---------------------------------------------------------------------------\u001b[0m",
      "\u001b[1;31mAttributeError\u001b[0m                            Traceback (most recent call last)",
      "Cell \u001b[1;32mIn[5], line 3\u001b[0m\n\u001b[0;32m      1\u001b[0m \u001b[39mprint\u001b[39m(v2\u001b[39m.\u001b[39ma)\n\u001b[0;32m      2\u001b[0m \u001b[39mprint\u001b[39m(v2\u001b[39m.\u001b[39mb)\n\u001b[1;32m----> 3\u001b[0m \u001b[39mprint\u001b[39m(v2\u001b[39m.\u001b[39;49mc) \u001b[39m#no attributes\u001b[39;00m\n",
      "\u001b[1;31mAttributeError\u001b[0m: 'ver2' object has no attribute 'c'"
     ]
    }
   ],
   "source": [
    "print(v2.a)\n",
    "print(v2.b)\n",
    "print(v2.c) #no attributes"
   ]
  },
  {
   "cell_type": "code",
   "execution_count": 6,
   "metadata": {},
   "outputs": [
    {
     "name": "stdout",
     "output_type": "stream",
     "text": [
      "10\n",
      "20\n",
      "30\n"
     ]
    }
   ],
   "source": [
    "print(v3.a)\n",
    "print(v3.b)\n",
    "print(v3.c) "
   ]
  },
  {
   "cell_type": "code",
   "execution_count": 7,
   "metadata": {},
   "outputs": [
    {
     "name": "stdout",
     "output_type": "stream",
     "text": [
      "parent class 10\n",
      "child class 10 20\n",
      "child child class 10 20 30\n"
     ]
    }
   ],
   "source": [
    "v1.display()\n",
    "v2.display()\n",
    "v3.display()"
   ]
  },
  {
   "cell_type": "code",
   "execution_count": 8,
   "metadata": {},
   "outputs": [
    {
     "name": "stdout",
     "output_type": "stream",
     "text": [
      "Parent\n",
      "Parent\n",
      "Parent\n"
     ]
    }
   ],
   "source": [
    "class ver1:\n",
    "    a=10\n",
    "    def __init__(self):\n",
    "        print(\"Parent\")\n",
    "    def display(self):\n",
    "        print(\"parent class\",self.a)\n",
    "\n",
    "v1=ver1()\n",
    "\n",
    "\n",
    "class ver2(ver1):\n",
    "    b=20\n",
    "    def display(self):\n",
    "        super().display()   #runs display from parent class\n",
    "        print(\"child class\",self.a,self.b)\n",
    "\n",
    "v2=ver2()\n",
    "\n",
    "class ver3(ver2):\n",
    "    c=30\n",
    "    def display(self):\n",
    "        super().display()   #runs display function from child class class\n",
    "        print(\"child child class\",self.a,self.b,self.c)\n",
    "\n",
    "v3=ver3()"
   ]
  },
  {
   "cell_type": "code",
   "execution_count": 9,
   "metadata": {},
   "outputs": [
    {
     "name": "stdout",
     "output_type": "stream",
     "text": [
      "parent class 10\n"
     ]
    }
   ],
   "source": [
    "v1.display()"
   ]
  },
  {
   "cell_type": "code",
   "execution_count": 10,
   "metadata": {},
   "outputs": [
    {
     "name": "stdout",
     "output_type": "stream",
     "text": [
      "parent class 10\n",
      "child class 10 20\n"
     ]
    }
   ],
   "source": [
    "v2.display()"
   ]
  },
  {
   "cell_type": "code",
   "execution_count": 11,
   "metadata": {},
   "outputs": [
    {
     "name": "stdout",
     "output_type": "stream",
     "text": [
      "parent class 10\n",
      "child class 10 20\n",
      "child child class 10 20 30\n"
     ]
    }
   ],
   "source": [
    "v3.display()"
   ]
  },
  {
   "cell_type": "code",
   "execution_count": 24,
   "metadata": {},
   "outputs": [],
   "source": [
    "class bank:\n",
    "    bank_name='icici'\n",
    "    ifsc = 'icici00123'\n",
    "    address='hyd'\n",
    "    cust_no=0\n",
    "    cust_details={}\n",
    "    def __init__(self,name,age,bal=500):\n",
    "        self.name=name\n",
    "        self.age=age\n",
    "        self.bal=bal\n",
    "        self.cust_inc()\n",
    "        self.acc_no=int('101020'+str(self.cust_no))\n",
    "        self.cust_details_inc(self.acc_no,self)\n",
    "    \n",
    "    @classmethod\n",
    "    def cust_inc(cls):\n",
    "        cls.cust_no+=1\n",
    "    \n",
    "    @classmethod\n",
    "    def cust_details_inc(cls,key,value):\n",
    "        cls.cust_details[key]=value\n",
    "    \n",
    "    def deposit(self):\n",
    "        acc = int(input(\"Enter the account number\"))\n",
    "        if self.acc_no==acc:\n",
    "            amount=int(input(\"Enter the amount\"))\n",
    "            self.bal+=amount\n",
    "            print(\"Transaction successful\")\n",
    "            check_bal=input(\"Do you want to see current balance (y/n)?: \").lower()=='y'\n",
    "            if check_bal:\n",
    "                print(\"your current balance is \",self.bal)\n",
    "            else:\n",
    "                print(\"thank you\")\n",
    "        else:\n",
    "            print(\"Invalid account number\")\n",
    "\n",
    "\n",
    "\n",
    "class bank_1(bank):\n",
    "    def __init__(self, name, age,email,phone, bal=500):\n",
    "        super().__init__(name,age,bal)\n",
    "        self.c_email=email\n",
    "        self.c_phone=phone\n",
    "        self.cust_inc()\n",
    "        self.acc_no=int('101020'+str(self.cust_no))\n",
    "        self.cust_details_inc(self.acc_no,self)\n",
    "    \n",
    "    def withdraw(self):\n",
    "        acc = int(input(\"Enter the accout number: \"))\n",
    "        if self.acc_no==acc:\n",
    "            amount=int(input(\"enter the amount\"))\n",
    "            if amount<self.bal-500:\n",
    "                self.bal-=amount\n",
    "                print(\"Transaction success\")\n",
    "                check_bal=input(\"Do you want to see current balance (y/n)?: \").lower()=='y'\n",
    "                if check_bal:\n",
    "                    print(\"your current balance is \",self.bal)\n",
    "                else:  \n",
    "                    print(\"thank you\")\n",
    "            else:\n",
    "                print(\"insuffiecient funds\")\n",
    "        else:\n",
    "            print('Invalid account number')\n",
    "\n",
    "class bank_ver2(bank_1):\n",
    "    def __init__(self, name, age, email, phone,pan,aadhar,password, bal=500):\n",
    "        super().__init__(name,age,email,phone,bal)\n",
    "        self.pan=pan\n",
    "        self.aadhar=aadhar\n",
    "        self.password=password\n",
    "    \n",
    "    @classmethod\n",
    "    def verify_user(cls):\n",
    "        user=int(input(\"Enter the Acc no\"))\n",
    "        pwd=input(\"Enter password\")\n",
    "        cls_data=cls.cust_details\n",
    "        for i in cls_data:\n",
    "            if cls_data[i].acc_no==user and cls_data[i].password==pwd:\n",
    "                return cls_data[i]\n",
    "        return None\n",
    "    \n",
    "    def details(self):\n",
    "        print('Customer no',self.acc_no)\n",
    "        print(\"Customer name\",self.name)\n",
    "        print(\"Customer age\",self.age)\n",
    "        print(\"Customer email\",self.c_email)\n",
    "        print(\"Customer number\",self.c_phone)\n",
    "        print(\"Customer pan card\",self.pan)\n",
    "        print(\"Customer aadhar\",self.aadhar)\n",
    "\n",
    "    \n",
    "    @staticmethod\n",
    "    def auth():\n",
    "        option = int(input(\"Choose an option\\n1. Register\\2. Login\"))\n",
    "        if option==1:\n",
    "            name=input(\"Enter the name\")\n",
    "            age=input(\"Enter the age\")\n",
    "            email=input(\"enter the email\")\n",
    "            phone=int(input(\"Enter phone number\"))\n",
    "            pan=input(\"Enter pan card\")\n",
    "            aadhar=int(input(\"enter aadhar\"))\n",
    "            password=input(\"ENter the password\")\n",
    "            bank_ver2(name,age,email,phone,pan,aadhar,password)\n",
    "        elif option==2:\n",
    "            self=bank_ver2.verify_user()\n",
    "            if self!=None:\n",
    "                menu=int(input(\"Choose the option\\n1. Deposit\\n2.Withdraw\\3. Details\"))\n",
    "                match menu:\n",
    "                    case 1:\n",
    "                        self.deposit()\n",
    "                    case 2:\n",
    "                        self.withdraw()\n",
    "                    case 3:\n",
    "                        self.details()\n",
    "            else:\n",
    "                print(\"Invalid\")\n",
    "sai = bank_ver2('sai',23,'sai@gamil.com',9999999999,'ABCDE1234F',122111334455,'sai@123')\n",
    "raja = bank_ver2('raja',23,'raja@gamil.com',9999999998,'ABCDF1234F',122111334456,'raja@123')\n"
   ]
  },
  {
   "cell_type": "code",
   "execution_count": 25,
   "metadata": {},
   "outputs": [
    {
     "name": "stdout",
     "output_type": "stream",
     "text": [
      "Invalid\n"
     ]
    }
   ],
   "source": [
    "bank_ver2.auth()"
   ]
  }
 ],
 "metadata": {
  "kernelspec": {
   "display_name": "Python 3",
   "language": "python",
   "name": "python3"
  },
  "language_info": {
   "codemirror_mode": {
    "name": "ipython",
    "version": 3
   },
   "file_extension": ".py",
   "mimetype": "text/x-python",
   "name": "python",
   "nbconvert_exporter": "python",
   "pygments_lexer": "ipython3",
   "version": "3.11.4"
  },
  "orig_nbformat": 4
 },
 "nbformat": 4,
 "nbformat_minor": 2
}
