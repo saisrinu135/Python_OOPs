{
 "cells": [
  {
   "cell_type": "code",
   "execution_count": 15,
   "metadata": {},
   "outputs": [],
   "source": [
    "from abc import ABC,abstractmethod\n",
    "\n",
    "class ring(ABC):\n",
    "    a=10\n",
    "\n",
    "    @abstractmethod\n",
    "    def area():     #this method is hidden, if not implemented in child class\n",
    "        pass\n",
    "#here the abstract method is declared (this is parent class (predefined abstract class))"
   ]
  },
  {
   "cell_type": "code",
   "execution_count": 11,
   "metadata": {},
   "outputs": [],
   "source": [
    "class sample(ring):\n",
    "    pass\n",
    "\n",
    "#no method is defined so cannot create an object with this child class"
   ]
  },
  {
   "cell_type": "code",
   "execution_count": 12,
   "metadata": {},
   "outputs": [
    {
     "ename": "TypeError",
     "evalue": "Can't instantiate abstract class sample with abstract method area",
     "output_type": "error",
     "traceback": [
      "\u001b[1;31m---------------------------------------------------------------------------\u001b[0m",
      "\u001b[1;31mTypeError\u001b[0m                                 Traceback (most recent call last)",
      "Cell \u001b[1;32mIn[12], line 1\u001b[0m\n\u001b[1;32m----> 1\u001b[0m obj\u001b[39m=\u001b[39msample()\n",
      "\u001b[1;31mTypeError\u001b[0m: Can't instantiate abstract class sample with abstract method area"
     ]
    }
   ],
   "source": [
    "obj=sample()"
   ]
  },
  {
   "cell_type": "code",
   "execution_count": null,
   "metadata": {},
   "outputs": [],
   "source": [
    "from abc import ABC,abstractmethod\n",
    "\n",
    "class ring(ABC):\n",
    "    a=10\n",
    "\n",
    "    @abstractmethod\n",
    "    def area(): #method is defined in parent class\n",
    "        pass"
   ]
  },
  {
   "cell_type": "code",
   "execution_count": 16,
   "metadata": {},
   "outputs": [],
   "source": [
    "class sample(ring):\n",
    "\n",
    "    \n",
    "    @staticmethod\n",
    "    def area():\n",
    "        pass            #method is implemented in child class, so object can be created with this child class"
   ]
  },
  {
   "cell_type": "code",
   "execution_count": 17,
   "metadata": {},
   "outputs": [],
   "source": [
    "obj=sample()"
   ]
  },
  {
   "cell_type": "code",
   "execution_count": 18,
   "metadata": {},
   "outputs": [],
   "source": [
    "#another example\n",
    "from abc import ABC,abstractmethod\n",
    "\n",
    "\n",
    "class developer(ABC):\n",
    "    def __init__(self,name,age,phone):\n",
    "        self.name=name\n",
    "        self.age=age\n",
    "        self.phone=phone\n",
    "    \n",
    "    @abstractmethod\n",
    "    def display():\n",
    "        pass\n",
    "\n",
    "    def modify(self,value):\n",
    "        self.phone=value"
   ]
  },
  {
   "cell_type": "code",
   "execution_count": 19,
   "metadata": {},
   "outputs": [],
   "source": [
    "class user(developer):\n",
    "    \n",
    "    def display(self):\n",
    "        print(self.name)\n",
    "        print(self.age)\n",
    "        print(self.phone)\n"
   ]
  },
  {
   "cell_type": "code",
   "execution_count": 22,
   "metadata": {},
   "outputs": [
    {
     "name": "stdout",
     "output_type": "stream",
     "text": [
      "sai\n",
      "23\n",
      "9999999999\n"
     ]
    }
   ],
   "source": [
    "obj=user('sai',23,9999999999)\n",
    "obj.display() #displayed because display function is defined in child class\n",
    "obj.modify(8888888888)"
   ]
  },
  {
   "cell_type": "code",
   "execution_count": 24,
   "metadata": {},
   "outputs": [
    {
     "name": "stdout",
     "output_type": "stream",
     "text": [
      "sai\n",
      "23\n",
      "8888888888\n"
     ]
    }
   ],
   "source": [
    "obj.display() #we can see that modify is directly accessed by object of child class even it is not defined in child class.\n",
    "#because it is not a abstractmethod\n",
    "\n",
    "#by doing this, "
   ]
  },
  {
   "cell_type": "code",
   "execution_count": 34,
   "metadata": {},
   "outputs": [],
   "source": [
    "#another example\n",
    "from abc import ABC,abstractmethod,abstractclassmethod\n",
    "\n",
    "user = 'family'\n",
    "\n",
    "class developer(ABC):\n",
    "    def __init__(self,name,age,phone):\n",
    "        self.name=name\n",
    "        self.age=age\n",
    "        self.phone=phone\n",
    "    \n",
    "    @abstractmethod\n",
    "    def display(self):\n",
    "        pass\n",
    "    \n",
    "    @abstractmethod\n",
    "    def modify(self):\n",
    "        pass\n",
    "\n",
    "    @abstractclassmethod\n",
    "    def modify_cls(cls):\n",
    "        pass"
   ]
  },
  {
   "cell_type": "code",
   "execution_count": 35,
   "metadata": {},
   "outputs": [],
   "source": [
    "class user(developer):\n",
    "    \n",
    "    def display(self):\n",
    "        print(self.name)\n",
    "        print(self.age)\n",
    "        print(self.phone)\n",
    "\n",
    "    def modify(self, value):\n",
    "        self.phone=value\n",
    "    \n",
    "    @classmethod\n",
    "    def modify_cls(cls):\n",
    "        cls.user='xyz'\n"
   ]
  },
  {
   "cell_type": "code",
   "execution_count": 36,
   "metadata": {},
   "outputs": [],
   "source": [
    "obj=user('sai',23,9999999999)"
   ]
  },
  {
   "cell_type": "code",
   "execution_count": 37,
   "metadata": {},
   "outputs": [],
   "source": [
    "obj.modify(8888888888)\n",
    "obj.modify_cls()"
   ]
  },
  {
   "cell_type": "code",
   "execution_count": 38,
   "metadata": {},
   "outputs": [
    {
     "name": "stdout",
     "output_type": "stream",
     "text": [
      "{'name': 'sai', 'age': 23, 'phone': 8888888888}\n",
      "xyz\n"
     ]
    }
   ],
   "source": [
    "print(obj.__dict__)\n",
    "print(obj.user)"
   ]
  }
 ],
 "metadata": {
  "kernelspec": {
   "display_name": "Python 3",
   "language": "python",
   "name": "python3"
  },
  "language_info": {
   "codemirror_mode": {
    "name": "ipython",
    "version": 3
   },
   "file_extension": ".py",
   "mimetype": "text/x-python",
   "name": "python",
   "nbconvert_exporter": "python",
   "pygments_lexer": "ipython3",
   "version": "3.11.4"
  },
  "orig_nbformat": 4
 },
 "nbformat": 4,
 "nbformat_minor": 2
}
