{
 "cells": [
  {
   "cell_type": "code",
   "execution_count": 27,
   "metadata": {},
   "outputs": [],
   "source": [
    "class student:\n",
    "    college = 'SITS'\n",
    "    branch = 'EEE'\n",
    "    clg_code = 'SISG'\n",
    "    l = []\n",
    "    def __init__(self,Name,RollNo,mail,sub1,sub1_m,sub2,sub2_m,sub3,sub3_m,sub4,sub4_m):\n",
    "        self.name=Name\n",
    "        self.RollNo=RollNo\n",
    "        self.mail=mail\n",
    "        self.sub1=sub1\n",
    "        self.sub1_m=sub1_m\n",
    "        self.sub2=sub2\n",
    "        self.sub2_m=sub2_m\n",
    "        self.sub3=sub3\n",
    "        self.sub3_m=sub3_m\n",
    "        self.sub4=sub4\n",
    "        self.sub4_m=sub4_m\n",
    "        student.l+=[self]\n",
    "    \n",
    "    @classmethod\n",
    "    def display(cls):\n",
    "        for i in cls.l:\n",
    "            total_marks = (i.sub1_m+i.sub2_m+i.sub3_m)\n",
    "            print(i.name,total_marks)"
   ]
  },
  {
   "cell_type": "code",
   "execution_count": 28,
   "metadata": {},
   "outputs": [],
   "source": [
    "#objects creation\n",
    "\n",
    "stu1 = student('Rakesh',225,'rakesh@gmail.com','bee',90,'ps',70,'emi',89,'em1',25)\n",
    "stu2 = student('Sai',226,'sai@gmail.com','bee',70,'ps',76,'emi',25,'em1',65)\n",
    "stu3 = student('Mohan',205,'mohan@gmail.com','bee',80,'ps',75,'emi',65,'em1',60)\n"
   ]
  },
  {
   "cell_type": "code",
   "execution_count": 29,
   "metadata": {},
   "outputs": [
    {
     "name": "stdout",
     "output_type": "stream",
     "text": [
      "Rakesh 249\n",
      "Sai 171\n",
      "Mohan 220\n"
     ]
    }
   ],
   "source": [
    "stu1.display()"
   ]
  }
 ],
 "metadata": {
  "kernelspec": {
   "display_name": "Python 3",
   "language": "python",
   "name": "python3"
  },
  "language_info": {
   "codemirror_mode": {
    "name": "ipython",
    "version": 3
   },
   "file_extension": ".py",
   "mimetype": "text/x-python",
   "name": "python",
   "nbconvert_exporter": "python",
   "pygments_lexer": "ipython3",
   "version": "3.11.4"
  },
  "orig_nbformat": 4
 },
 "nbformat": 4,
 "nbformat_minor": 2
}
