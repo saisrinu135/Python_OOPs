{
 "cells": [
  {
   "cell_type": "code",
   "execution_count": 2,
   "metadata": {},
   "outputs": [],
   "source": [
    "'''Create a class customer with the fields cust_id, cust_name, cust_address.\n",
    "Display the customer details by using class address. (Outside of class) \n",
    "Display the customer details by using object address'''\n",
    "\n",
    "class Customer:\n",
    "    cust_id = \"20230809A\"\n",
    "    cust_name = \"Raja\"\n",
    "    cust_address = \"Hyd\"\n"
   ]
  },
  {
   "cell_type": "code",
   "execution_count": 3,
   "metadata": {},
   "outputs": [
    {
     "name": "stdout",
     "output_type": "stream",
     "text": [
      "20230809A Raja Hyd\n"
     ]
    }
   ],
   "source": [
    "print(Customer.cust_id,Customer.cust_name,Customer.cust_address)"
   ]
  },
  {
   "cell_type": "code",
   "execution_count": 4,
   "metadata": {},
   "outputs": [
    {
     "name": "stdout",
     "output_type": "stream",
     "text": [
      "[10]\n",
      "{'a': 10}\n"
     ]
    },
    {
     "ename": "AttributeError",
     "evalue": "type object 'demo' has no attribute 'y'",
     "output_type": "error",
     "traceback": [
      "\u001b[1;31m---------------------------------------------------------------------------\u001b[0m",
      "\u001b[1;31mAttributeError\u001b[0m                            Traceback (most recent call last)",
      "Cell \u001b[1;32mIn[4], line 14\u001b[0m\n\u001b[0;32m     11\u001b[0m \u001b[39mprint\u001b[39m(demo\u001b[39m.\u001b[39my)\n\u001b[0;32m     13\u001b[0m \u001b[39mdel\u001b[39;00m demo\u001b[39m.\u001b[39my\n\u001b[1;32m---> 14\u001b[0m \u001b[39mprint\u001b[39m(demo\u001b[39m.\u001b[39;49my)\n",
      "\u001b[1;31mAttributeError\u001b[0m: type object 'demo' has no attribute 'y'"
     ]
    }
   ],
   "source": [
    "#outside of the class\n",
    "class demo:\n",
    "    x = 10\n",
    "# initialization\n",
    "demo.y=[10]\n",
    "\n",
    "#fetch\n",
    "print(demo.y)\n",
    "\n",
    "#reinitialization\n",
    "demo.y = {'a':10}\n",
    "print(demo.y)\n",
    "\n",
    "del demo.y\n",
    "print(demo.y) #deleted, so raises attribute error\n"
   ]
  },
  {
   "cell_type": "code",
   "execution_count": 5,
   "metadata": {},
   "outputs": [
    {
     "name": "stdout",
     "output_type": "stream",
     "text": [
      "100\n",
      "1000\n"
     ]
    },
    {
     "ename": "NameError",
     "evalue": "name 'abc' is not defined",
     "output_type": "error",
     "traceback": [
      "\u001b[1;31m---------------------------------------------------------------------------\u001b[0m",
      "\u001b[1;31mNameError\u001b[0m                                 Traceback (most recent call last)",
      "Cell \u001b[1;32mIn[5], line 3\u001b[0m\n\u001b[0;32m      1\u001b[0m \u001b[39m#inside of the class\u001b[39;00m\n\u001b[1;32m----> 3\u001b[0m \u001b[39mclass\u001b[39;49;00m \u001b[39msample\u001b[39;49;00m:\n\u001b[0;32m      4\u001b[0m     \u001b[39m#initialization\u001b[39;49;00m\n\u001b[0;32m      5\u001b[0m     abc \u001b[39m=\u001b[39;49m \u001b[39m100\u001b[39;49m\n\u001b[0;32m      7\u001b[0m     \u001b[39mprint\u001b[39;49m(abc)\n",
      "Cell \u001b[1;32mIn[5], line 15\u001b[0m, in \u001b[0;36msample\u001b[1;34m()\u001b[0m\n\u001b[0;32m     13\u001b[0m \u001b[39m# deletion\u001b[39;00m\n\u001b[0;32m     14\u001b[0m \u001b[39mdel\u001b[39;00m abc\n\u001b[1;32m---> 15\u001b[0m \u001b[39mprint\u001b[39m(abc)\n",
      "\u001b[1;31mNameError\u001b[0m: name 'abc' is not defined"
     ]
    }
   ],
   "source": [
    "#inside of the class\n",
    "\n",
    "class sample:\n",
    "    #initialization\n",
    "    abc = 100\n",
    "\n",
    "    print(abc)\n",
    "\n",
    "    # reinitialization\n",
    "    abc = 1000\n",
    "    print(abc)\n",
    "\n",
    "    # deletion\n",
    "    del abc\n",
    "    print(abc)    #deleted, so raises name error"
   ]
  },
  {
   "cell_type": "code",
   "execution_count": 4,
   "metadata": {},
   "outputs": [
    {
     "name": "stdout",
     "output_type": "stream",
     "text": [
      "Raja 20230809A Hyd\n"
     ]
    }
   ],
   "source": [
    "#object creation\n",
    "\n",
    "obj = Customer()\n",
    "print(obj.cust_name,obj.cust_id,obj.cust_address)"
   ]
  },
  {
   "cell_type": "code",
   "execution_count": 1,
   "metadata": {},
   "outputs": [],
   "source": [
    "'''' Create a class Bank with the fields bank_name, bank_code, bank_address, etc min 6 attributes\n",
    "Display the bank details (inside the class)\n",
    "Display the bank details by using onject address'''\n",
    "\n",
    "class Bank:\n",
    "    bank_name = \"GBI\"\n",
    "    bank_code = \"GBI000078\""
   ]
  }
 ],
 "metadata": {
  "kernelspec": {
   "display_name": "Python 3",
   "language": "python",
   "name": "python3"
  },
  "language_info": {
   "codemirror_mode": {
    "name": "ipython",
    "version": 3
   },
   "file_extension": ".py",
   "mimetype": "text/x-python",
   "name": "python",
   "nbconvert_exporter": "python",
   "pygments_lexer": "ipython3",
   "version": "3.11.4"
  },
  "orig_nbformat": 4
 },
 "nbformat": 4,
 "nbformat_minor": 2
}
