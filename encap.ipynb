{
 "cells": [
  {
   "cell_type": "code",
   "execution_count": 5,
   "metadata": {},
   "outputs": [],
   "source": [
    "class person:\n",
    "    surname='G'\n",
    "    def __init__(self,firstname):\n",
    "        self.firstname=firstname\n",
    "    \n",
    "    @classmethod\n",
    "    def modify_cls(cls,value):\n",
    "        cls.surname=value\n",
    "    \n",
    "    def modify_self(self,value):\n",
    "        self.firstname=value\n",
    "    \n",
    "    @staticmethod\n",
    "    def display():\n",
    "        print(\"Welcome\")\n",
    "\n",
    "class child(person):\n",
    "    pass"
   ]
  },
  {
   "cell_type": "code",
   "execution_count": 6,
   "metadata": {},
   "outputs": [
    {
     "name": "stdout",
     "output_type": "stream",
     "text": [
      "G\n",
      "dinga\n",
      "t\n",
      "linga raju\n",
      "Welcome\n"
     ]
    }
   ],
   "source": [
    "print(child.surname)\n",
    "\n",
    "obj=child('dinga')\n",
    "print(obj.firstname)\n",
    "\n",
    "obj.modify_cls('t')\n",
    "print(child.surname)\n",
    "\n",
    "obj.modify_self('linga raju')\n",
    "print(obj.firstname)\n",
    "\n",
    "obj.display()"
   ]
  },
  {
   "cell_type": "code",
   "execution_count": 12,
   "metadata": {},
   "outputs": [],
   "source": [
    "class person1:\n",
    "    _surname='G'\n",
    "    def __init__(self,firstname):\n",
    "        self._firstname=firstname\n",
    "    \n",
    "    @classmethod\n",
    "    def _modify_cls(cls,value):\n",
    "        cls._surname=value\n",
    "    \n",
    "    def _modify_self(self,value):\n",
    "        self._firstname=value\n",
    "    \n",
    "    @staticmethod\n",
    "    def _display():\n",
    "        print(\"Welcome\")\n",
    "\n",
    "class child1(person1):\n",
    "    pass"
   ]
  },
  {
   "cell_type": "code",
   "execution_count": 13,
   "metadata": {},
   "outputs": [
    {
     "name": "stdout",
     "output_type": "stream",
     "text": [
      "G\n",
      "dinga\n",
      "t\n",
      "linga raju\n",
      "Welcome\n"
     ]
    }
   ],
   "source": [
    "print(child1._surname)\n",
    "\n",
    "obj=child1('dinga')\n",
    "print(obj._firstname)\n",
    "\n",
    "obj._modify_cls('t')\n",
    "print(child1._surname)\n",
    "\n",
    "obj._modify_self('linga raju')\n",
    "print(obj._firstname)\n",
    "\n",
    "obj._display()"
   ]
  },
  {
   "cell_type": "code",
   "execution_count": 15,
   "metadata": {},
   "outputs": [],
   "source": [
    "class person2:\n",
    "    __surname='G'       #private things can be accessed in the class itslef, but cannot be used out of the class\n",
    "    def __init__(self,firstname):\n",
    "        self.__firstname=firstname\n",
    "        print(self.__firstname) #accessing inside the class so can be printed\n",
    "    \n",
    "    @classmethod\n",
    "    def __modify_cls(cls,value):\n",
    "        cls.__surname=value\n",
    "    \n",
    "    def __modify_self(self,value):\n",
    "        self.__firstname=value\n",
    "    \n",
    "    @staticmethod\n",
    "    def __display():\n",
    "        print(\"Welcome\")\n",
    "\n",
    "class child2(person2):\n",
    "    pass"
   ]
  },
  {
   "cell_type": "code",
   "execution_count": 16,
   "metadata": {},
   "outputs": [
    {
     "name": "stdout",
     "output_type": "stream",
     "text": [
      "dinga\n"
     ]
    },
    {
     "ename": "AttributeError",
     "evalue": "'child2' object has no attribute '__firstname'",
     "output_type": "error",
     "traceback": [
      "\u001b[1;31m---------------------------------------------------------------------------\u001b[0m",
      "\u001b[1;31mAttributeError\u001b[0m                            Traceback (most recent call last)",
      "Cell \u001b[1;32mIn[16], line 2\u001b[0m\n\u001b[0;32m      1\u001b[0m obj\u001b[39m=\u001b[39mchild2(\u001b[39m'\u001b[39m\u001b[39mdinga\u001b[39m\u001b[39m'\u001b[39m)\n\u001b[1;32m----> 2\u001b[0m \u001b[39mprint\u001b[39m(obj\u001b[39m.\u001b[39;49m__firstname)      \u001b[39m#Printed class because its printed inside the class\u001b[39;00m\n\u001b[0;32m      3\u001b[0m \u001b[39mprint\u001b[39m(child2\u001b[39m.\u001b[39m__surname)      \u001b[39m#cannot use the private variables or methods defined in class cannot be used out of the class\u001b[39;00m\n\u001b[0;32m      6\u001b[0m obj\u001b[39m.\u001b[39m__modify_cls(\u001b[39m'\u001b[39m\u001b[39mt\u001b[39m\u001b[39m'\u001b[39m)\n",
      "\u001b[1;31mAttributeError\u001b[0m: 'child2' object has no attribute '__firstname'"
     ]
    }
   ],
   "source": [
    "obj=child2('dinga')\n",
    "print(obj.__firstname)      #Printed class because its printed inside the class\n",
    "print(child2.__surname)      #cannot use the private variables or methods defined in class cannot be used out of the class\n",
    "\n",
    "\n",
    "obj.__modify_cls('t')\n",
    "print(child2.__surname)\n",
    "\n",
    "obj.__modify_self('linga raju')\n",
    "print(obj.__firstname)\n",
    "\n",
    "obj.__display()"
   ]
  },
  {
   "cell_type": "code",
   "execution_count": 20,
   "metadata": {},
   "outputs": [],
   "source": [
    "class human:\n",
    "    surname='godavarthi'\n",
    "    address='guduvada'\n",
    "    pincode='504215'\n",
    "    __land_phone='8053923389'\n",
    "    \n",
    "    def __init__(self,name,age,phone,height,weight,bank_acc,password,salary,gender,partner):\n",
    "        self.name=name\n",
    "        self.__age=age\n",
    "        self.height=height\n",
    "        self.__phone=phone\n",
    "        self._weight=weight\n",
    "        self.__bank_acc=bank_acc\n",
    "        self.__password=password\n",
    "        self._salary=salary\n",
    "        self.gender=gender\n",
    "        self.partner=partner\n",
    "    \n",
    "sai=human('sai',22,9999999999,5.5,50,8342479793,'sai@123',50000,'male',None)"
   ]
  },
  {
   "cell_type": "code",
   "execution_count": 25,
   "metadata": {},
   "outputs": [
    {
     "ename": "AttributeError",
     "evalue": "'human' object has no attribute '__age'",
     "output_type": "error",
     "traceback": [
      "\u001b[1;31m---------------------------------------------------------------------------\u001b[0m",
      "\u001b[1;31mAttributeError\u001b[0m                            Traceback (most recent call last)",
      "Cell \u001b[1;32mIn[25], line 4\u001b[0m\n\u001b[0;32m      1\u001b[0m \u001b[39m#we can extract the details of object with address that variable is stored with\u001b[39;00m\n\u001b[0;32m      2\u001b[0m \u001b[39mprint\u001b[39m(sai\u001b[39m.\u001b[39mname,\n\u001b[0;32m      3\u001b[0m       sai\u001b[39m.\u001b[39m_salary,\n\u001b[1;32m----> 4\u001b[0m       sai\u001b[39m.\u001b[39;49m__age,)\n",
      "\u001b[1;31mAttributeError\u001b[0m: 'human' object has no attribute '__age'"
     ]
    }
   ],
   "source": [
    "#we can extract the details of object with address that variable is stored with\n",
    "print(sai.name,\n",
    "      sai._salary,\n",
    "      sai.__age,)"
   ]
  },
  {
   "cell_type": "code",
   "execution_count": 26,
   "metadata": {},
   "outputs": [
    {
     "data": {
      "text/plain": [
       "{'name': 'sai',\n",
       " '_human__age': 22,\n",
       " 'height': 5.5,\n",
       " '_human__phone': 9999999999,\n",
       " '_weight': 50,\n",
       " '_human__bank_acc': 8342479793,\n",
       " '_human__password': 'sai@123',\n",
       " '_salary': 50000,\n",
       " 'gender': 'male',\n",
       " 'partner': None}"
      ]
     },
     "execution_count": 26,
     "metadata": {},
     "output_type": "execute_result"
    }
   ],
   "source": [
    "sai.__dict__"
   ]
  },
  {
   "cell_type": "code",
   "execution_count": 27,
   "metadata": {},
   "outputs": [
    {
     "name": "stdout",
     "output_type": "stream",
     "text": [
      "sai 50000 22\n"
     ]
    }
   ],
   "source": [
    "#we can extract the details of object with address that variable is stored with\n",
    "print(sai.name,\n",
    "      sai._salary,\n",
    "      sai._human__age,)"
   ]
  }
 ],
 "metadata": {
  "kernelspec": {
   "display_name": "Python 3",
   "language": "python",
   "name": "python3"
  },
  "language_info": {
   "codemirror_mode": {
    "name": "ipython",
    "version": 3
   },
   "file_extension": ".py",
   "mimetype": "text/x-python",
   "name": "python",
   "nbconvert_exporter": "python",
   "pygments_lexer": "ipython3",
   "version": "3.11.4"
  },
  "orig_nbformat": 4
 },
 "nbformat": 4,
 "nbformat_minor": 2
}
