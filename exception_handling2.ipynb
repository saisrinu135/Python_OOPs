{
 "cells": [
  {
   "cell_type": "code",
   "execution_count": null,
   "metadata": {},
   "outputs": [],
   "source": [
    "class product:\n",
    "    prod_details={}\n",
    "    p_count=0\n",
    "    company_name=\"WIPRO\"\n",
    "    def __init__(self,p_name,p_desc,price,discount):\n",
    "        self.p_count_int()\n",
    "        self.p_id=self.p_count\n",
    "        self.p_name=p_name\n",
    "        self.p_desc=p_desc\n",
    "        self.price=price\n",
    "        self.discount=discount\n",
    "        self.details_inc(self.p_id,self)\n",
    "    \n",
    "    @classmethod\n",
    "    def details_inc(cls,p_id,value):\n",
    "        cls.prod_details[p_id]=value\n",
    "    \n",
    "    @classmethod\n",
    "    def p_count_inc(cls):\n",
    "        cls.p_count+=1\n",
    "    \n",
    "    def display(self):\n",
    "        print(\"Product id       :\",self.p_id)\n",
    "        print(\"Product Name     :\",self.p_name)\n",
    "        print(\"Product Desc     :\",self.p_desc)\n",
    "        print(\"Product Price    :\",self.price)\n",
    "        print(\"Product discount :\",self.discount)\n",
    "    \n",
    "    @classmethod\n",
    "    def display_obj(cls):\n",
    "        n = int(input(\"Enter the product id: \"))\n",
    "        try:\n",
    "            product.prod_details[n].display()\n",
    "        except KeyError:\n",
    "            print(f\"product {n} ID is not found\")\n",
    "    \n",
    "    @classmethod\n",
    "    def modify_price(cls):\n",
    "        try:\n",
    "            n=int(input(\"Enter the product id\"))\n",
    "            self=cls.prod_details[n]\n",
    "            print(f\"product {n} price is: \",self.price)\n",
    "        except KeyError:\n",
    "            print(f\"product {n} price not found\")\n",
    "            n = int(input(\"plz enter the product id\"))\n",
    "            self=cls.prod_details[n]\n",
    "            print(f\"product {n} price is :\",self.price)\n",
    "        \n",
    "        finally:\n",
    "            amount=int(input(\"Enter the new price\"))\n",
    "            self.prod_details[n].price=amount\n",
    "            print(f\"current price of product {n} is:\",self.prod_details[n].price)\n",
    "            self.display()"
   ]
  }
 ],
 "metadata": {
  "kernelspec": {
   "display_name": "Python 3",
   "language": "python",
   "name": "python3"
  },
  "language_info": {
   "name": "python",
   "version": "3.11.4"
  },
  "orig_nbformat": 4
 },
 "nbformat": 4,
 "nbformat_minor": 2
}
