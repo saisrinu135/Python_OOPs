{
 "cells": [
  {
   "cell_type": "code",
   "execution_count": 1,
   "metadata": {},
   "outputs": [],
   "source": [
    "class bank:\n",
    "    bank_name='icici'\n",
    "    ifsc = 'icici00123'\n",
    "    address='hyd'\n",
    "    cust_no=0\n",
    "    cust_details={}\n",
    "    def __init__(self,name,age,bal=500):\n",
    "        self.name=name\n",
    "        self.age=age\n",
    "        self.bal=bal\n",
    "        self.cust_inc()\n",
    "        self.acc_no=int('101020'+str(self.cust_no))\n",
    "        self.cust_details_inc(self.acc_no,self)\n",
    "    \n",
    "    @classmethod\n",
    "    def cust_inc(cls):\n",
    "        cls.cust_no+=1\n",
    "    \n",
    "    @classmethod\n",
    "    def cust_details_inc(cls,key,value):\n",
    "        cls.cust_details[key]=value\n",
    "    \n",
    "    def deposit(self):\n",
    "        acc = int(input(\"Enter the account number\"))\n",
    "        if self.acc_no==acc:\n",
    "            amount=int(input(\"Enter the amount\"))\n",
    "            self.bal+=amount\n",
    "            print(\"Transaction successful\")\n",
    "            check_bal=input(\"Do you want to see current balance (y/n)?: \").lower()=='y'\n",
    "            if check_bal:\n",
    "                print(\"your current balance is \",self.bal)\n",
    "            else:\n",
    "                print(\"thank you\")\n",
    "        else:\n",
    "            print(\"Invalid account number\")"
   ]
  },
  {
   "cell_type": "code",
   "execution_count": 2,
   "metadata": {},
   "outputs": [],
   "source": [
    "priya = bank('priya',23)"
   ]
  },
  {
   "cell_type": "code",
   "execution_count": 3,
   "metadata": {},
   "outputs": [
    {
     "name": "stdout",
     "output_type": "stream",
     "text": [
      "{'name': 'priya', 'age': 23, 'bal': 500, 'acc_no': 1010201}\n",
      "1\n",
      "{1010201: <__main__.bank object at 0x00000202BAF26DD0>}\n"
     ]
    }
   ],
   "source": [
    "print(priya.__dict__)\n",
    "print(bank.cust_no)\n",
    "print(bank.cust_details)"
   ]
  },
  {
   "cell_type": "code",
   "execution_count": 4,
   "metadata": {},
   "outputs": [],
   "source": [
    "class bank_1(bank):\n",
    "    def __init__(self, name, age,email,phone, bal=500):\n",
    "        self.c_name=name\n",
    "        self.c_age=age\n",
    "        self.c_email=email\n",
    "        self.c_phone=phone\n",
    "        self.bal=bal\n",
    "        self.cust_inc()\n",
    "        self.acc_no=int('101020'+str(self.cust_no))\n",
    "        self.cust_details_inc(self.acc_no,self)\n",
    "    \n",
    "    def withdraw(self):\n",
    "        acc = int(input(\"Enter the accout number: \"))\n",
    "        if self.acc_no==acc:\n",
    "            amount=int(input(\"enter the amount\"))\n",
    "            if amount<self.bal-500:\n",
    "                self.bal-=amount\n",
    "                print(\"Transaction success\")\n",
    "                check_bal=input(\"Do you want to see current balance (y/n)?: \").lower()=='y'\n",
    "                if check_bal:\n",
    "                    print(\"your current balance is \",self.bal)\n",
    "                else:  \n",
    "                    print(\"thank you\")\n",
    "            else:\n",
    "                print(\"insuffiecient funds\")\n",
    "        else:\n",
    "            print('Invalid account number')"
   ]
  },
  {
   "cell_type": "code",
   "execution_count": 5,
   "metadata": {},
   "outputs": [],
   "source": [
    "sai=bank_1('sai',23,'sai@gmail.com',9999999999)"
   ]
  },
  {
   "cell_type": "code",
   "execution_count": 6,
   "metadata": {},
   "outputs": [
    {
     "name": "stdout",
     "output_type": "stream",
     "text": [
      "{'c_name': 'sai', 'c_age': 23, 'c_email': 'sai@gmail.com', 'c_phone': 9999999999, 'bal': 500, 'acc_no': 1010202}\n",
      "2\n"
     ]
    }
   ],
   "source": [
    "print(sai.__dict__)\n",
    "print(sai.cust_no)"
   ]
  },
  {
   "cell_type": "code",
   "execution_count": 8,
   "metadata": {},
   "outputs": [
    {
     "name": "stdout",
     "output_type": "stream",
     "text": [
      "Transaction successful\n",
      "thank you\n"
     ]
    }
   ],
   "source": [
    "#sai have access to withdraw and deposit (child class object)\n",
    "#but priya can access only deposit (parent class object)\n",
    "\n",
    "# sai.withdraw()\n",
    "sai.deposit()\n",
    "# priya.withdraw()\n"
   ]
  },
  {
   "cell_type": "code",
   "execution_count": null,
   "metadata": {},
   "outputs": [],
   "source": [
    "class bank:\n",
    "    bank_name='icici'\n",
    "    ifsc = 'icici00123'\n",
    "    address='hyd'\n",
    "    cust_no=0\n",
    "    cust_details={}\n",
    "    def __init__(self,name,age,bal=500):\n",
    "        self.name=name\n",
    "        self.age=age\n",
    "        self.bal=bal\n",
    "        self.cust_inc()\n",
    "        self.acc_no=int('101020'+str(self.cust_no))\n",
    "        self.cust_details_inc(self.acc_no,self)\n",
    "    \n",
    "    @classmethod\n",
    "    def cust_inc(cls):\n",
    "        cls.cust_no+=1\n",
    "    \n",
    "    @classmethod\n",
    "    def cust_details_inc(cls,key,value):\n",
    "        cls.cust_details[key]=value\n",
    "    \n",
    "    def deposit(self):\n",
    "        acc = int(input(\"Enter the account number\"))\n",
    "        if self.acc_no==acc:\n",
    "            amount=int(input(\"Enter the amount\"))\n",
    "            self.bal+=amount\n",
    "            print(\"Transaction successful\")\n",
    "            check_bal=input(\"Do you want to see current balance (y/n)?: \").lower()=='y'\n",
    "            if check_bal:\n",
    "                print(\"your current balance is \",self.bal)\n",
    "            else:\n",
    "                print(\"thank you\")\n",
    "        else:\n",
    "            print(\"Invalid account number\")"
   ]
  },
  {
   "cell_type": "code",
   "execution_count": 9,
   "metadata": {},
   "outputs": [],
   "source": [
    "class bank_1(bank):\n",
    "    def __init__(self, name, age,email,phone, bal=500):\n",
    "        bank.__init__(name,age,bal)\n",
    "        self.c_email=email\n",
    "        self.c_phone=phone\n",
    "        self.cust_inc()\n",
    "        self.acc_no=int('101020'+str(self.cust_no))\n",
    "        self.cust_details_inc(self.acc_no,self)\n",
    "    \n",
    "    def withdraw(self):\n",
    "        acc = int(input(\"Enter the accout number: \"))\n",
    "        if self.acc_no==acc:\n",
    "            amount=int(input(\"enter the amount\"))\n",
    "            if amount<self.bal-500:\n",
    "                self.bal-=amount\n",
    "                print(\"Transaction success\")\n",
    "                check_bal=input(\"Do you want to see current balance (y/n)?: \").lower()=='y'\n",
    "                if check_bal:\n",
    "                    print(\"your current balance is \",self.bal)\n",
    "                else:  \n",
    "                    print(\"thank you\")\n",
    "            else:\n",
    "                print(\"insuffiecient funds\")\n",
    "        else:\n",
    "            print('Invalid account number')"
   ]
  },
  {
   "cell_type": "code",
   "execution_count": 10,
   "metadata": {},
   "outputs": [],
   "source": [
    "priya=bank('priya',23)"
   ]
  },
  {
   "cell_type": "code",
   "execution_count": 11,
   "metadata": {},
   "outputs": [
    {
     "data": {
      "text/plain": [
       "{'name': 'priya', 'age': 23, 'bal': 500, 'acc_no': 1010202}"
      ]
     },
     "execution_count": 11,
     "metadata": {},
     "output_type": "execute_result"
    }
   ],
   "source": [
    "priya.__dict__"
   ]
  },
  {
   "cell_type": "code",
   "execution_count": 12,
   "metadata": {},
   "outputs": [
    {
     "ename": "AttributeError",
     "evalue": "'str' object has no attribute 'name'",
     "output_type": "error",
     "traceback": [
      "\u001b[1;31m---------------------------------------------------------------------------\u001b[0m",
      "\u001b[1;31mAttributeError\u001b[0m                            Traceback (most recent call last)",
      "Cell \u001b[1;32mIn[12], line 1\u001b[0m\n\u001b[1;32m----> 1\u001b[0m priya\u001b[39m=\u001b[39mbank_1(\u001b[39m'\u001b[39;49m\u001b[39mpriya\u001b[39;49m\u001b[39m'\u001b[39;49m,\u001b[39m23\u001b[39;49m,\u001b[39m'\u001b[39;49m\u001b[39mpriya@gmail.com\u001b[39;49m\u001b[39m'\u001b[39;49m,\u001b[39m9999999998\u001b[39;49m)\n",
      "Cell \u001b[1;32mIn[9], line 3\u001b[0m, in \u001b[0;36mbank_1.__init__\u001b[1;34m(self, name, age, email, phone, bal)\u001b[0m\n\u001b[0;32m      2\u001b[0m \u001b[39mdef\u001b[39;00m \u001b[39m__init__\u001b[39m(\u001b[39mself\u001b[39m, name, age,email,phone, bal\u001b[39m=\u001b[39m\u001b[39m500\u001b[39m):\n\u001b[1;32m----> 3\u001b[0m     bank\u001b[39m.\u001b[39;49m\u001b[39m__init__\u001b[39;49m(name,age,bal)\n\u001b[0;32m      4\u001b[0m     \u001b[39mself\u001b[39m\u001b[39m.\u001b[39mc_email\u001b[39m=\u001b[39memail\n\u001b[0;32m      5\u001b[0m     \u001b[39mself\u001b[39m\u001b[39m.\u001b[39mc_phone\u001b[39m=\u001b[39mphone\n",
      "Cell \u001b[1;32mIn[1], line 8\u001b[0m, in \u001b[0;36mbank.__init__\u001b[1;34m(self, name, age, bal)\u001b[0m\n\u001b[0;32m      7\u001b[0m \u001b[39mdef\u001b[39;00m \u001b[39m__init__\u001b[39m(\u001b[39mself\u001b[39m,name,age,bal\u001b[39m=\u001b[39m\u001b[39m500\u001b[39m):\n\u001b[1;32m----> 8\u001b[0m     \u001b[39mself\u001b[39;49m\u001b[39m.\u001b[39;49mname\u001b[39m=\u001b[39mname\n\u001b[0;32m      9\u001b[0m     \u001b[39mself\u001b[39m\u001b[39m.\u001b[39mage\u001b[39m=\u001b[39mage\n\u001b[0;32m     10\u001b[0m     \u001b[39mself\u001b[39m\u001b[39m.\u001b[39mbal\u001b[39m=\u001b[39mbal\n",
      "\u001b[1;31mAttributeError\u001b[0m: 'str' object has no attribute 'name'"
     ]
    }
   ],
   "source": [
    "priya=bank_1('priya',23,'priya@gmail.com',9999999998)"
   ]
  }
 ],
 "metadata": {
  "kernelspec": {
   "display_name": "Python 3",
   "language": "python",
   "name": "python3"
  },
  "language_info": {
   "codemirror_mode": {
    "name": "ipython",
    "version": 3
   },
   "file_extension": ".py",
   "mimetype": "text/x-python",
   "name": "python",
   "nbconvert_exporter": "python",
   "pygments_lexer": "ipython3",
   "version": "3.11.4"
  },
  "orig_nbformat": 4
 },
 "nbformat": 4,
 "nbformat_minor": 2
}
