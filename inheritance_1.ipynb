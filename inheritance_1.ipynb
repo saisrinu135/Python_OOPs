{
 "cells": [
  {
   "cell_type": "code",
   "execution_count": 1,
   "metadata": {},
   "outputs": [],
   "source": [
    "class mobile:\n",
    "    brand='oneplus'\n",
    "    os='oxygen'\n",
    "    def __init__(self,serialno,price,color):\n",
    "        self.serialno=serialno\n",
    "        self.price=price\n",
    "        self.color=color\n",
    "obj=mobile('M001',75000,'red')"
   ]
  },
  {
   "cell_type": "code",
   "execution_count": 2,
   "metadata": {},
   "outputs": [
    {
     "data": {
      "text/plain": [
       "{'serialno': 'M001', 'price': 75000, 'color': 'red'}"
      ]
     },
     "execution_count": 2,
     "metadata": {},
     "output_type": "execute_result"
    }
   ],
   "source": [
    "obj.__dict__"
   ]
  },
  {
   "cell_type": "code",
   "execution_count": 5,
   "metadata": {},
   "outputs": [
    {
     "name": "stdout",
     "output_type": "stream",
     "text": [
      "oneplus oxygen M001 75000 red\n"
     ]
    }
   ],
   "source": [
    "print(obj.brand,obj.os,obj.serialno,obj.price,obj.color)"
   ]
  },
  {
   "cell_type": "code",
   "execution_count": 3,
   "metadata": {},
   "outputs": [],
   "source": [
    "class mobile2(mobile):\n",
    "    pass\n",
    "\n",
    "obj1 = mobile2('moo2',60000,'black')"
   ]
  },
  {
   "cell_type": "code",
   "execution_count": 4,
   "metadata": {},
   "outputs": [
    {
     "data": {
      "text/plain": [
       "{'serialno': 'moo2', 'price': 60000, 'color': 'black'}"
      ]
     },
     "execution_count": 4,
     "metadata": {},
     "output_type": "execute_result"
    }
   ],
   "source": [
    "obj1.__dict__"
   ]
  },
  {
   "cell_type": "code",
   "execution_count": 6,
   "metadata": {},
   "outputs": [
    {
     "name": "stdout",
     "output_type": "stream",
     "text": [
      "oneplus oxygen <function mobile.__init__ at 0x0000028C0370C720>\n"
     ]
    }
   ],
   "source": [
    "print(mobile2.brand,mobile2.os,mobile2.__init__) #these are defined in mobile and derived to mobile2"
   ]
  },
  {
   "cell_type": "code",
   "execution_count": 8,
   "metadata": {},
   "outputs": [
    {
     "name": "stdout",
     "output_type": "stream",
     "text": [
      "parent init\n",
      "parent init\n"
     ]
    }
   ],
   "source": [
    "class parent:\n",
    "    m=10\n",
    "    def __init__(self):\n",
    "        print('parent init')\n",
    "\n",
    "class child(parent):\n",
    "    m=20\n",
    "\n",
    "x = parent()\n",
    "y = child() #no init method in child, so called init of parent"
   ]
  },
  {
   "cell_type": "code",
   "execution_count": 12,
   "metadata": {},
   "outputs": [
    {
     "name": "stdout",
     "output_type": "stream",
     "text": [
      "parent init\n",
      "Child init\n",
      "10\n"
     ]
    }
   ],
   "source": [
    "#constructor override\n",
    "class parent:\n",
    "    m = 10\n",
    "    def __init__(self):\n",
    "        print(\"parent init\")\n",
    "\n",
    "class child(parent):\n",
    "    def __init__(self):\n",
    "        print(\"Child init\")\n",
    "\n",
    "x = parent()\n",
    "y = child()\n",
    "print(y.m) #printed m from parent class"
   ]
  },
  {
   "cell_type": "code",
   "execution_count": 13,
   "metadata": {},
   "outputs": [
    {
     "name": "stdout",
     "output_type": "stream",
     "text": [
      "Parent init\n",
      "child init\n",
      "20\n"
     ]
    }
   ],
   "source": [
    "#value override\n",
    "class parent:\n",
    "    m = 10\n",
    "    def __init__(self):\n",
    "        print(\"Parent init\")\n",
    "\n",
    "class child(parent):\n",
    "    m=20                    #overrides m from parent class\n",
    "    def __init__(self):\n",
    "        print(\"child init\")\n",
    "x = parent()\n",
    "y=child()\n",
    "print(y.m)"
   ]
  },
  {
   "cell_type": "code",
   "execution_count": 17,
   "metadata": {},
   "outputs": [
    {
     "name": "stdout",
     "output_type": "stream",
     "text": [
      "Parent init\n",
      "Child init\n",
      "parent 10\n",
      "Child 20\n"
     ]
    }
   ],
   "source": [
    "#method override\n",
    "\n",
    "class parent:\n",
    "    m = 10\n",
    "    def __init__(self):\n",
    "        print(\"Parent init\")\n",
    "    def display(self):\n",
    "        print('parent',self.m)\n",
    "\n",
    "class child(parent):\n",
    "    m = 20\n",
    "    def __init__(self):\n",
    "        print(\"Child init\")\n",
    "    def display(self):\n",
    "        print('Child',self.m)   #method from parent class id overriden\n",
    "\n",
    "x = parent()\n",
    "y = child()\n",
    "x.display()\n",
    "y.display()"
   ]
  },
  {
   "cell_type": "code",
   "execution_count": null,
   "metadata": {},
   "outputs": [],
   "source": []
  }
 ],
 "metadata": {
  "kernelspec": {
   "display_name": "Python 3",
   "language": "python",
   "name": "python3"
  },
  "language_info": {
   "codemirror_mode": {
    "name": "ipython",
    "version": 3
   },
   "file_extension": ".py",
   "mimetype": "text/x-python",
   "name": "python",
   "nbconvert_exporter": "python",
   "pygments_lexer": "ipython3",
   "version": "3.11.4"
  },
  "orig_nbformat": 4
 },
 "nbformat": 4,
 "nbformat_minor": 2
}
