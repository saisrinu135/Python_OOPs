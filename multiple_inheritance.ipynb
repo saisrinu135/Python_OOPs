{
 "cells": [
  {
   "cell_type": "code",
   "execution_count": 1,
   "metadata": {},
   "outputs": [],
   "source": [
    "class parent1:\n",
    "    x=10\n",
    "\n",
    "class parent2:\n",
    "    x=50\n",
    "    y=20\n",
    "\n",
    "class child(parent1,parent2):\n",
    "    z=30\n",
    "\n",
    "obj = child()"
   ]
  },
  {
   "cell_type": "code",
   "execution_count": 2,
   "metadata": {},
   "outputs": [
    {
     "name": "stdout",
     "output_type": "stream",
     "text": [
      "{}\n",
      "10 20 30\n"
     ]
    }
   ],
   "source": [
    "print(obj.__dict__)\n",
    "print(obj.x,obj.y,obj.z)"
   ]
  },
  {
   "cell_type": "code",
   "execution_count": 5,
   "metadata": {},
   "outputs": [],
   "source": [
    "class cust:\n",
    "    shopping='online_shopping'\n",
    "    def __init__(self,name,age,phone,email,address):\n",
    "        self.name=name\n",
    "        self.age=age\n",
    "        self.phone=phone\n",
    "        self.email=email\n",
    "        self.address=address\n",
    "    def display(self):\n",
    "        print(self.name)\n",
    "        print(self.age)\n",
    "        print(self.phone)\n",
    "        print(self.email)\n",
    "        print(self.address)\n",
    "\n",
    "class product:\n",
    "    shopping='online-store'\n",
    "    def __init__(self,p_name,p_desc,p_price,p_quantity):\n",
    "        self.p_name=p_name\n",
    "        self.p_desc=p_desc\n",
    "        self.p_price=p_price\n",
    "        self.p_quantity=p_quantity\n",
    "    \n",
    "    def display(self):\n",
    "        print(self.p_name)\n",
    "        print(self.p_desc)\n",
    "        print(self.p_price)\n",
    "        print(self.p_quantity)\n",
    "\n",
    "class trans(cust,product):  #shopping from product is replaced by shoping in cust.\n",
    "    def __init__(self, name, age, phone, email, address,p_name,p_desc,p_price,p_quantity):\n",
    "        cust.__init__(self,name,age,phone,email,address)\n",
    "        product.__init__(self,p_name,p_desc,p_price,p_quantity)\n",
    "    \n",
    "    def display(self):\n",
    "        cust.display(self)\n",
    "        product.display(self)"
   ]
  },
  {
   "cell_type": "code",
   "execution_count": 6,
   "metadata": {},
   "outputs": [
    {
     "name": "stdout",
     "output_type": "stream",
     "text": [
      "linga\n",
      "24\n",
      "linga@gmail.com\n",
      "9999999999\n",
      "bang\n",
      "oneplus\n",
      "oneplus 14 max pro\n",
      "75000\n",
      "10\n"
     ]
    },
    {
     "data": {
      "text/plain": [
       "'online_shopping'"
      ]
     },
     "execution_count": 6,
     "metadata": {},
     "output_type": "execute_result"
    }
   ],
   "source": [
    "obj = trans('linga',24,'linga@gmail.com',9999999999,'bang','oneplus','oneplus 14 max pro',75000,10)\n",
    "obj.display()\n",
    "obj.shopping"
   ]
  },
  {
   "cell_type": "code",
   "execution_count": null,
   "metadata": {},
   "outputs": [],
   "source": []
  }
 ],
 "metadata": {
  "kernelspec": {
   "display_name": "Python 3",
   "language": "python",
   "name": "python3"
  },
  "language_info": {
   "codemirror_mode": {
    "name": "ipython",
    "version": 3
   },
   "file_extension": ".py",
   "mimetype": "text/x-python",
   "name": "python",
   "nbconvert_exporter": "python",
   "pygments_lexer": "ipython3",
   "version": "3.11.4"
  },
  "orig_nbformat": 4
 },
 "nbformat": 4,
 "nbformat_minor": 2
}
