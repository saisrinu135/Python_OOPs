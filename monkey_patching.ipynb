{
 "cells": [
  {
   "cell_type": "code",
   "execution_count": 1,
   "metadata": {},
   "outputs": [],
   "source": [
    "class pen:\n",
    "    def __init__(self,name,price,desc):\n",
    "        self.name=name\n",
    "        self.price=price\n",
    "        self.desc=desc\n",
    "    \n",
    "    def display(self):\n",
    "        print(self.__dict__)\n",
    "    \n",
    "\n",
    "def view(self):\n",
    "    print(\"Pen name\",self.name)\n",
    "    print(\"Pen Price\",self.price)\n",
    "    print(\"Decx\",self.desc)"
   ]
  },
  {
   "cell_type": "code",
   "execution_count": 2,
   "metadata": {},
   "outputs": [
    {
     "name": "stdout",
     "output_type": "stream",
     "text": [
      "{'name': 'cello', 'price': 1500, 'desc': 'ball pen'}\n"
     ]
    }
   ],
   "source": [
    "obj=pen('cello',1500,'ball pen')\n",
    "obj.display()"
   ]
  },
  {
   "cell_type": "code",
   "execution_count": 3,
   "metadata": {},
   "outputs": [],
   "source": [
    "pen.display=view        # replacing method address (monkey patching)"
   ]
  },
  {
   "cell_type": "code",
   "execution_count": 4,
   "metadata": {},
   "outputs": [],
   "source": [
    "obj1=pen('renolds',200,'ball pen')"
   ]
  },
  {
   "cell_type": "code",
   "execution_count": 5,
   "metadata": {},
   "outputs": [
    {
     "name": "stdout",
     "output_type": "stream",
     "text": [
      "Pen name renolds\n",
      "Pen Price 200\n",
      "Decx ball pen\n"
     ]
    }
   ],
   "source": [
    "obj1.display()  # function address is replaced"
   ]
  }
 ],
 "metadata": {
  "kernelspec": {
   "display_name": "Python 3",
   "language": "python",
   "name": "python3"
  },
  "language_info": {
   "codemirror_mode": {
    "name": "ipython",
    "version": 3
   },
   "file_extension": ".py",
   "mimetype": "text/x-python",
   "name": "python",
   "nbconvert_exporter": "python",
   "pygments_lexer": "ipython3",
   "version": "3.11.4"
  },
  "orig_nbformat": 4
 },
 "nbformat": 4,
 "nbformat_minor": 2
}
