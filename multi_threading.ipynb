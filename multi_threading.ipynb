{
 "cells": [
  {
   "cell_type": "code",
   "execution_count": 2,
   "metadata": {},
   "outputs": [],
   "source": [
    "import threading\n",
    "\n",
    "def program1(a,b):\n",
    "    l=[]\n",
    "    for i in range(a,b):\n",
    "        l+=[i**2]\n",
    "    print(l)\n",
    "\n",
    "def program2(a,b):\n",
    "    l=[]\n",
    "    for i in range(a,b):\n",
    "        l+=[i**3]\n",
    "    print(l)\n",
    "\n",
    "def program3(a,b):\n",
    "    l=[]\n",
    "    for i in range(a,b):\n",
    "        l+=[i]\n",
    "    print(l)"
   ]
  },
  {
   "cell_type": "code",
   "execution_count": 6,
   "metadata": {},
   "outputs": [
    {
     "name": "stdout",
     "output_type": "stream",
     "text": [
      "<Thread(Thread-11 (program1), initial)> <Thread(Thread-12 (program2), initial)> <Thread(Thread-13 (program3), initial)>\n",
      "[1, 4, 9, 16, 25, 36, 49, 64, 81]\n",
      "[1, 8, 27, 64, 125, 216, 343, 512, 729]\n",
      "[1, 2, 3, 4, 5, 6, 7, 8, 9]\n",
      "<Thread(Thread-11 (program1), stopped 12724)> <Thread(Thread-12 (program2), stopped 11016)> <Thread(Thread-13 (program3), stopped 15888)>\n"
     ]
    }
   ],
   "source": [
    "t1=threading.Thread(target=program1,args=(1,10))\n",
    "t2=threading.Thread(target=program2,args=(1,10))\n",
    "t3=threading.Thread(target=program3,args=(1,10))\n",
    "\n",
    "print(t1,t2,t3)\n",
    "t1.start()\n",
    "t2.start()\n",
    "t3.start()\n",
    "\n",
    "t1.join()\n",
    "t2.join()\n",
    "t3.join()\n",
    "print(t1,t2,t3)"
   ]
  }
 ],
 "metadata": {
  "kernelspec": {
   "display_name": "Python 3",
   "language": "python",
   "name": "python3"
  },
  "language_info": {
   "codemirror_mode": {
    "name": "ipython",
    "version": 3
   },
   "file_extension": ".py",
   "mimetype": "text/x-python",
   "name": "python",
   "nbconvert_exporter": "python",
   "pygments_lexer": "ipython3",
   "version": "3.11.4"
  },
  "orig_nbformat": 4
 },
 "nbformat": 4,
 "nbformat_minor": 2
}
