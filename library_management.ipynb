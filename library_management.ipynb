{
 "cells": [
  {
   "cell_type": "code",
   "execution_count": 17,
   "metadata": {},
   "outputs": [],
   "source": [
    "#Books store assignment\n",
    "\n",
    "class Library_Management:\n",
    "    usncode = 0\n",
    "    details = {}\n",
    "\n",
    "    def __init__(self,title,author,description, price):\n",
    "        self.title = title\n",
    "        self.author = author\n",
    "        self.description = description\n",
    "        self.price= price\n",
    "        self.inc_usncode()\n",
    "        self.usn = \"USNLMX00\"+str(self.usncode)\n",
    "        self.add_details(self.usn,self)\n",
    "\n",
    "    @classmethod\n",
    "    def inc_usncode(cls):\n",
    "        cls.usncode+=1\n",
    "    \n",
    "    @classmethod\n",
    "    def add_details(cls,key,value):\n",
    "        cls.details[key] = value\n",
    "\n",
    "    @classmethod\n",
    "    def all_books(cls):\n",
    "        for i in cls.details:\n",
    "            cls.view(cls.details[i])\n",
    "            print('-'*50)\n",
    "\n",
    "    def view(self):\n",
    "        print(f\"Name of the book: {self.title}\")\n",
    "        print(f\"Book is written by: {self.author}\")\n",
    "        print(f\"Price of the Book: {self.price}\")\n",
    "        print(f\"Description of book: {self.description}\")\n",
    "    \n",
    "    @classmethod\n",
    "    def search_books(cls):\n",
    "        book_name = input(\"Enter the book name\")\n",
    "        for i in cls.details:\n",
    "            books = cls.details[i].__dict__\n",
    "            if book_name == books['title']:\n",
    "                cls.view(cls.details[i])\n",
    "                break\n",
    "            else:\n",
    "                print(\"Book unailable\")"
   ]
  },
  {
   "cell_type": "code",
   "execution_count": 18,
   "metadata": {},
   "outputs": [],
   "source": [
    "# object creation\n",
    "\n",
    "Power_systems = Library_Management(\"Modern Power Sytems\",\"Vani\",\"Ex quidem soluta optio atq\",500)\n",
    "Power_systems2 = Library_Management(\"Modern Power Sytems2\",\"Sai\",\"Ex quidem soluta optio atq\",560)"
   ]
  },
  {
   "cell_type": "code",
   "execution_count": 20,
   "metadata": {},
   "outputs": [
    {
     "name": "stdout",
     "output_type": "stream",
     "text": [
      "Name of the book: Modern Power Sytems\n",
      "Book is written by: Vani\n",
      "Price of the Book: 500\n",
      "Description of book: Ex quidem soluta optio atq\n"
     ]
    }
   ],
   "source": [
    "Library_Management.search_books()"
   ]
  },
  {
   "cell_type": "code",
   "execution_count": null,
   "metadata": {},
   "outputs": [],
   "source": [
    "Power_systems.view()"
   ]
  },
  {
   "cell_type": "code",
   "execution_count": null,
   "metadata": {},
   "outputs": [],
   "source": [
    "Power_systems2.view()"
   ]
  },
  {
   "cell_type": "code",
   "execution_count": null,
   "metadata": {},
   "outputs": [],
   "source": [
    "Library_Management.all_books()"
   ]
  }
 ],
 "metadata": {
  "kernelspec": {
   "display_name": "Python 3",
   "language": "python",
   "name": "python3"
  },
  "language_info": {
   "codemirror_mode": {
    "name": "ipython",
    "version": 3
   },
   "file_extension": ".py",
   "mimetype": "text/x-python",
   "name": "python",
   "nbconvert_exporter": "python",
   "pygments_lexer": "ipython3",
   "version": "3.11.4"
  },
  "orig_nbformat": 4
 },
 "nbformat": 4,
 "nbformat_minor": 2
}
