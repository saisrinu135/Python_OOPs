{
 "cells": [
  {
   "cell_type": "code",
   "execution_count": 1,
   "metadata": {},
   "outputs": [],
   "source": [
    "class employee:\n",
    "\n",
    "    #generic attributes or static attributes or properties\n",
    "    company_name = \"Jspiders\"\n",
    "    company_loc = \"Dilshuknagar\"\n",
    "    company_loc=\"Hyd\"\n",
    "\n",
    "    #specific attributes or dynamic attributes or properties\n",
    "    def __init__(self,name,age,gender,phone,email,salary,location):\n",
    "        self.name=name\n",
    "        self.age=age\n",
    "        self.gender=gender\n",
    "        self.phone=phone\n",
    "        self.email=email\n",
    "        self.salary=salary\n",
    "        self.location=location"
   ]
  },
  {
   "cell_type": "code",
   "execution_count": 2,
   "metadata": {},
   "outputs": [],
   "source": [
    "sai = employee('sai',23,'male',9999999999,'sai@gmail.com',65000,'Hyd')"
   ]
  },
  {
   "cell_type": "code",
   "execution_count": 6,
   "metadata": {},
   "outputs": [],
   "source": [
    "employee.company_loc='Dilshuknagar'"
   ]
  },
  {
   "cell_type": "code",
   "execution_count": 7,
   "metadata": {},
   "outputs": [
    {
     "data": {
      "text/plain": [
       "'Dilshuknagar'"
      ]
     },
     "execution_count": 7,
     "metadata": {},
     "output_type": "execute_result"
    }
   ],
   "source": [
    "sai.company_loc"
   ]
  },
  {
   "cell_type": "code",
   "execution_count": 7,
   "metadata": {},
   "outputs": [
    {
     "name": "stdout",
     "output_type": "stream",
     "text": [
      "23\n"
     ]
    }
   ],
   "source": [
    "print(sai.age)"
   ]
  },
  {
   "cell_type": "code",
   "execution_count": 14,
   "metadata": {},
   "outputs": [],
   "source": [
    "raja = employee('raja',25,'male',8888888888,'raja@gmail.com',10000,'Mancherial')"
   ]
  },
  {
   "cell_type": "code",
   "execution_count": 15,
   "metadata": {},
   "outputs": [
    {
     "name": "stdout",
     "output_type": "stream",
     "text": [
      "{'name': 'raja', 'age': 25, 'gender': 'male', 'phone': 8888888888, 'email': 'raja@gmail.com', 'salary': 10000, 'location': 'Mancherial'}\n"
     ]
    }
   ],
   "source": [
    "print(raja.__dict__)"
   ]
  },
  {
   "cell_type": "code",
   "execution_count": 9,
   "metadata": {},
   "outputs": [
    {
     "ename": "TypeError",
     "evalue": "myClass.change() missing 1 required positional argument: 'cls'",
     "output_type": "error",
     "traceback": [
      "\u001b[1;31m---------------------------------------------------------------------------\u001b[0m",
      "\u001b[1;31mTypeError\u001b[0m                                 Traceback (most recent call last)",
      "Cell \u001b[1;32mIn[9], line 8\u001b[0m\n\u001b[0;32m      5\u001b[0m     \u001b[39m@staticmethod\u001b[39m\n\u001b[0;32m      6\u001b[0m     \u001b[39mdef\u001b[39;00m \u001b[39mchange\u001b[39m(\u001b[39mcls\u001b[39m):\n\u001b[0;32m      7\u001b[0m         \u001b[39mcls\u001b[39m\u001b[39m.\u001b[39muser \u001b[39m=\u001b[39m \u001b[39m'\u001b[39m\u001b[39mmyclass\u001b[39m\u001b[39m'\u001b[39m\n\u001b[1;32m----> 8\u001b[0m myClass\u001b[39m.\u001b[39;49mchange()\n",
      "\u001b[1;31mTypeError\u001b[0m: myClass.change() missing 1 required positional argument: 'cls'"
     ]
    }
   ],
   "source": [
    "class myClass:\n",
    "    id = '101'\n",
    "    user = 'family'\n",
    "\n",
    "    @staticmethod\n",
    "    def change(cls):\n",
    "        cls.user = 'myclass'\n",
    "myClass.change()"
   ]
  }
 ],
 "metadata": {
  "kernelspec": {
   "display_name": "Python 3",
   "language": "python",
   "name": "python3"
  },
  "language_info": {
   "codemirror_mode": {
    "name": "ipython",
    "version": 3
   },
   "file_extension": ".py",
   "mimetype": "text/x-python",
   "name": "python",
   "nbconvert_exporter": "python",
   "pygments_lexer": "ipython3",
   "version": "3.11.4"
  },
  "orig_nbformat": 4
 },
 "nbformat": 4,
 "nbformat_minor": 2
}
