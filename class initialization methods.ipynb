{
 "cells": [
  {
   "cell_type": "code",
   "execution_count": 8,
   "metadata": {},
   "outputs": [],
   "source": [
    "#initialization of static states\n",
    "#method 1\n",
    "class apple: #initialize the static stated inside the class\n",
    "    a = 100\n",
    "    b = 200\n",
    "    c = 300\n"
   ]
  },
  {
   "cell_type": "code",
   "execution_count": null,
   "metadata": {},
   "outputs": [],
   "source": [
    "#method:2\n",
    "class sample: #initialize the static states outside the class\n",
    "    pass\n",
    "sample.a=100\n",
    "sample.b=200\n",
    "sample.c=300"
   ]
  },
  {
   "cell_type": "code",
   "execution_count": 10,
   "metadata": {},
   "outputs": [],
   "source": [
    "#method 3:\n",
    "class demo: #nothing in the class\n",
    "    pass\n",
    "\n",
    "def create_static(cls): #initialize the static states putside of the class by using function with class address\n",
    "    cls.a=100           #argument can be anything. But as per industry standards 'cls' is used\n",
    "    cls.b=200\n",
    "    cls.c=300\n",
    "create_static(demo)"
   ]
  },
  {
   "cell_type": "code",
   "execution_count": 3,
   "metadata": {},
   "outputs": [],
   "source": [
    "#method:4\n",
    "class pen:\n",
    "    def create_static(cls):  #initialize the static states inside the class by using static method with class address\n",
    "        cls.a=100\n",
    "        cls.b=200\n",
    "        cls.c=300\n",
    "pen.create_static(pen)"
   ]
  },
  {
   "cell_type": "code",
   "execution_count": 12,
   "metadata": {},
   "outputs": [],
   "source": [
    "#method:5\n",
    "class mobile:\n",
    "    @classmethod  #decorating the method by the help of class method (dynamically it will assign the class address)\n",
    "    def create_static(cls):  #initialize the static states inside the class by using classmethod decorator\n",
    "        cls.a=100  #classaddress.variablename = value\n",
    "        cls.b=200\n",
    "        cls.c=300  #cls argument holds the current class address\n",
    "mobile.create_static()"
   ]
  }
 ],
 "metadata": {
  "kernelspec": {
   "display_name": "Python 3",
   "language": "python",
   "name": "python3"
  },
  "language_info": {
   "codemirror_mode": {
    "name": "ipython",
    "version": 3
   },
   "file_extension": ".py",
   "mimetype": "text/x-python",
   "name": "python",
   "nbconvert_exporter": "python",
   "pygments_lexer": "ipython3",
   "version": "3.11.4"
  },
  "orig_nbformat": 4
 },
 "nbformat": 4,
 "nbformat_minor": 2
}
