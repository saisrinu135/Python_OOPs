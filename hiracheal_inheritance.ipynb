{
 "cells": [
  {
   "cell_type": "code",
   "execution_count": 1,
   "metadata": {},
   "outputs": [],
   "source": [
    "class parent:\n",
    "    x=10\n",
    "    def __init__(self,m):\n",
    "        self.m=m\n",
    "    @classmethod\n",
    "    def display(cls):\n",
    "        print(cls.x)\n",
    "\n",
    "class child1(parent):\n",
    "    y=20\n",
    "\n",
    "class child2(parent):\n",
    "    z=30"
   ]
  },
  {
   "cell_type": "code",
   "execution_count": 2,
   "metadata": {},
   "outputs": [
    {
     "name": "stdout",
     "output_type": "stream",
     "text": [
      "10\n",
      "10 20\n",
      "10 30\n"
     ]
    }
   ],
   "source": [
    "print(parent.x)\n",
    "print(child1.x,child1.y)\n",
    "print(child2.x,child2.z)"
   ]
  },
  {
   "cell_type": "code",
   "execution_count": 3,
   "metadata": {},
   "outputs": [
    {
     "name": "stdout",
     "output_type": "stream",
     "text": [
      "10\n",
      "10\n",
      "10\n"
     ]
    }
   ],
   "source": [
    "parent.display()\n",
    "child1.display()\n",
    "child2.display()"
   ]
  },
  {
   "cell_type": "code",
   "execution_count": 4,
   "metadata": {},
   "outputs": [],
   "source": [
    "p1=parent(100)\n",
    "c1=child1(500)\n",
    "c2=child2(600)"
   ]
  },
  {
   "cell_type": "code",
   "execution_count": 5,
   "metadata": {},
   "outputs": [
    {
     "name": "stdout",
     "output_type": "stream",
     "text": [
      "100\n",
      "500\n",
      "600\n"
     ]
    }
   ],
   "source": [
    "print(p1.m)\n",
    "print(c1.m)\n",
    "print(c2.m)"
   ]
  },
  {
   "cell_type": "code",
   "execution_count": 1,
   "metadata": {},
   "outputs": [],
   "source": [
    "class institute:\n",
    "    name='TEST YANTRA'\n",
    "    CEO = 'girish'\n",
    "    def __init__(self,name,phone,email,category):\n",
    "        self.name=name\n",
    "        self.phone=phone\n",
    "        self.email=email\n",
    "        self.category=category\n",
    "\n",
    "    def display(self):\n",
    "        print(\"Student name: \",self.name)\n",
    "        print(\"Student Phone: \",self.phone)\n",
    "        print(\"Student email: \",self.email)\n",
    "        print(\"Student category: \",self.category)\n",
    "\n",
    "class Jspiders(institute):\n",
    "    branch='Jspiders'\n",
    "    founder = 'Kashi'\n",
    "    subject='Java'\n",
    "\n",
    "class qspiders(institute):\n",
    "    branch ='qspiders'\n",
    "    founder = 'Sudhakar'\n",
    "    subject = 'Manual testing'\n",
    "\n",
    "class pyspiders(institute):\n",
    "    branch='Pyspiders'\n",
    "    founder='akshay'\n",
    "    subject='python'"
   ]
  },
  {
   "cell_type": "code",
   "execution_count": 2,
   "metadata": {},
   "outputs": [],
   "source": [
    "trainer = institute('venugopal',9999999999,'venu@gamil.com','trainer')\n",
    "j_stu1=Jspiders('sai',8888888888,'sai@gmail.com','student')\n",
    "q_stu1=qspiders('Raja',7777777777,'raja@gmail.com','student')\n",
    "py_stu1=pyspiders('Raju',6666666666,'raju@gmail.com','student')"
   ]
  }
 ],
 "metadata": {
  "kernelspec": {
   "display_name": "Python 3",
   "language": "python",
   "name": "python3"
  },
  "language_info": {
   "codemirror_mode": {
    "name": "ipython",
    "version": 3
   },
   "file_extension": ".py",
   "mimetype": "text/x-python",
   "name": "python",
   "nbconvert_exporter": "python",
   "pygments_lexer": "ipython3",
   "version": "3.11.4"
  },
  "orig_nbformat": 4
 },
 "nbformat": 4,
 "nbformat_minor": 2
}
