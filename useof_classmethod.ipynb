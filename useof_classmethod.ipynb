{
 "cells": [
  {
   "cell_type": "code",
   "execution_count": 5,
   "metadata": {},
   "outputs": [
    {
     "ename": "TypeError",
     "evalue": "demo.cls_display() missing 1 required positional argument: 'cls'",
     "output_type": "error",
     "traceback": [
      "\u001b[1;31m---------------------------------------------------------------------------\u001b[0m",
      "\u001b[1;31mTypeError\u001b[0m                                 Traceback (most recent call last)",
      "Cell \u001b[1;32mIn[5], line 5\u001b[0m\n\u001b[0;32m      3\u001b[0m     \u001b[39mdef\u001b[39;00m \u001b[39mcls_display\u001b[39m(\u001b[39mcls\u001b[39m):\n\u001b[0;32m      4\u001b[0m         \u001b[39mprint\u001b[39m(\u001b[39mcls\u001b[39m\u001b[39m.\u001b[39mx)\n\u001b[1;32m----> 5\u001b[0m demo\u001b[39m.\u001b[39;49mcls_display()    \u001b[39m#type:ignore  #need to pass class address\u001b[39;00m\n",
      "\u001b[1;31mTypeError\u001b[0m: demo.cls_display() missing 1 required positional argument: 'cls'"
     ]
    }
   ],
   "source": [
    "class demo:\n",
    "    x = [10,20,30]\n",
    "    def cls_display(cls):\n",
    "        print(cls.x)\n",
    "demo.cls_display()     #need to pass class address"
   ]
  },
  {
   "cell_type": "code",
   "execution_count": 4,
   "metadata": {},
   "outputs": [
    {
     "name": "stdout",
     "output_type": "stream",
     "text": [
      "[10, 20, 30]\n"
     ]
    }
   ],
   "source": [
    "class demo:\n",
    "    x = [10,20,30]\n",
    "    def cls_display(cls):\n",
    "        print(cls.x)\n",
    "demo.cls_display(demo)"
   ]
  },
  {
   "cell_type": "code",
   "execution_count": null,
   "metadata": {},
   "outputs": [],
   "source": [
    "class college:\n",
    "    col_name = 'pys'\n",
    "    def __init__(self,name,age):\n",
    "        self.name=name\n",
    "        self.age=age\n",
    "    @classmethod\n",
    "    def cls_display(cls):\n",
    "        print(cls.col_name)\n",
    "\n",
    "    def obj_display(self):\n",
    "        print(self.name,self.age)\n",
    "ramu = college(\"ramu\",26)\n",
    "\n",
    "ramu.cls_display()  #class method can be called using object address\n",
    "college.cls_display()   #class method can be claaed using class address\n",
    "\n",
    "ramu.obj_display()      #object method can be called using object address with out passing argument\n",
    "college.obj_display(ramu)    #object method can be called using class address by passing object as argument"
   ]
  },
  {
   "cell_type": "code",
   "execution_count": 4,
   "metadata": {},
   "outputs": [],
   "source": [
    "#student of IITs\n",
    "\n",
    "class Institute:\n",
    "    Name_ins = \"IITM Institute\"\n",
    "    address = \"hyd\"\n",
    "    code = 'IITM'\n",
    "    def __init__(self,name,age,email,phone,branch,roll,year,degree):\n",
    "        self.name=name\n",
    "        self.age=age\n",
    "        self.email=email\n",
    "        self.phone=phone\n",
    "        self.branch=branch\n",
    "        self.roll=roll\n",
    "        self.year=year\n",
    "        self.degree=degree\n",
    "        var = branch[:2]+'_'+degree[:2]+'_'+str(year)[2:]+'_'+roll[8:]+'@'+f\"student.onlinedegree.{Institute.code}.ac.in\"\n",
    "        self.off_email = var\n",
    "krishna = Institute('Krishna',25,'krishna@gmail.com',9999999999,'cse','IITM-CS-7814',2022,'Btech')"
   ]
  },
  {
   "cell_type": "code",
   "execution_count": 3,
   "metadata": {},
   "outputs": [
    {
     "data": {
      "text/plain": [
       "'cs_Bt_22_7814@student.onlinedegree.IITM.ac.in'"
      ]
     },
     "execution_count": 3,
     "metadata": {},
     "output_type": "execute_result"
    }
   ],
   "source": [
    "krishna.off_email"
   ]
  },
  {
   "cell_type": "code",
   "execution_count": 28,
   "metadata": {},
   "outputs": [],
   "source": [
    "#Books store assignment\n",
    "\n",
    "class Siri_Publication:\n",
    "\n",
    "    website = \"siripublications.com\"\n",
    "    address = \"Mancherial\"\n",
    "    phone = 9999999999\n",
    "    email = \"siripublications@gmail.com\"\n",
    "    usncode = \"USN74740\"\n",
    "    details = {}\n",
    "\n",
    "    def __init__(self,title,Author,Description, Price):\n",
    "        self.title = title\n",
    "        self.author = Author\n",
    "        self.description = Description\n",
    "        self.price= Price\n",
    "        self.change_usn()\n",
    "        self.usn = self.usncode\n",
    "        self.add_details(self.usn,self)\n",
    "\n",
    "    \n",
    "    @classmethod\n",
    "    def change_usn(cls):\n",
    "        cls.usncode = cls.usncode+str(1)\n",
    "    \n",
    "    @classmethod\n",
    "    def add_details(cls,key,value):\n",
    "        cls.details[key] = value\n",
    "\n",
    "    @classmethod\n",
    "    def all_books(cls):\n",
    "        for i in cls.details:\n",
    "            cls.view(cls.details[i])\n",
    "            print('-'*50)\n",
    "    \n",
    "    def view(self):\n",
    "        print(f\"Name of the book: {self.title}\")\n",
    "        print(f\"Book is written by: {self.author}\")\n",
    "        print(f\"Price of the Book: {self.price}\")\n",
    "        print(f\"Description of book: {self.description}\")"
   ]
  },
  {
   "cell_type": "code",
   "execution_count": 29,
   "metadata": {},
   "outputs": [],
   "source": [
    "Power_systems = Siri_Publication(\"Modern Power Sytems\",\"Vani\",\"Ex quidem soluta optio atq\",500)\n",
    "Power_systems2 = Siri_Publication(\"Modern Power Sytems2\",\"Sai\",\"Ex quidem soluta optio atq\",560)"
   ]
  },
  {
   "cell_type": "code",
   "execution_count": 30,
   "metadata": {},
   "outputs": [
    {
     "name": "stdout",
     "output_type": "stream",
     "text": [
      "Name of the book: Modern Power Sytems2\n",
      "Book is written by: Sai\n",
      "Price of the Book: 560\n",
      "Description of book: Ex quidem soluta optio atq\n"
     ]
    }
   ],
   "source": [
    "Power_systems2.view()"
   ]
  },
  {
   "cell_type": "code",
   "execution_count": 31,
   "metadata": {},
   "outputs": [
    {
     "name": "stdout",
     "output_type": "stream",
     "text": [
      "Name of the book: Modern Power Sytems\n",
      "Book is written by: Vani\n",
      "Price of the Book: 500\n",
      "Description of book: Ex quidem soluta optio atq\n",
      "--------------------------------------------------\n",
      "Name of the book: Modern Power Sytems2\n",
      "Book is written by: Sai\n",
      "Price of the Book: 560\n",
      "Description of book: Ex quidem soluta optio atq\n",
      "--------------------------------------------------\n"
     ]
    }
   ],
   "source": [
    "Siri_Publication.all_books()"
   ]
  }
 ],
 "metadata": {
  "kernelspec": {
   "display_name": "Python 3",
   "language": "python",
   "name": "python3"
  },
  "language_info": {
   "codemirror_mode": {
    "name": "ipython",
    "version": 3
   },
   "file_extension": ".py",
   "mimetype": "text/x-python",
   "name": "python",
   "nbconvert_exporter": "python",
   "pygments_lexer": "ipython3",
   "version": "3.11.4"
  },
  "orig_nbformat": 4
 },
 "nbformat": 4,
 "nbformat_minor": 2
}
