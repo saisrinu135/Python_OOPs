{
 "cells": [
  {
   "cell_type": "code",
   "execution_count": 12,
   "metadata": {},
   "outputs": [],
   "source": [
    "class school:\n",
    "    scl_name = \"VIKAS\"\n",
    "    scl_address = \"HYD\"\n",
    "    total_marks = 300"
   ]
  },
  {
   "cell_type": "code",
   "execution_count": 13,
   "metadata": {},
   "outputs": [
    {
     "name": "stdout",
     "output_type": "stream",
     "text": [
      "80.66666666666666\n"
     ]
    }
   ],
   "source": [
    "stu_1 = school()\n",
    "stu_1.name = \"raja\"\n",
    "stu_1.roll = \"201308\"\n",
    "stu_1.m1 = 90\n",
    "stu_1.m2 = 65\n",
    "stu_1.m3 = 87\n",
    "stu_1.marks = stu_1.m1+stu_1.m2+stu_1.m3\n",
    "\n",
    "print((stu_1.marks/stu_1.total_marks)*100)"
   ]
  },
  {
   "cell_type": "code",
   "execution_count": null,
   "metadata": {},
   "outputs": [],
   "source": []
  }
 ],
 "metadata": {
  "kernelspec": {
   "display_name": "Python 3",
   "language": "python",
   "name": "python3"
  },
  "language_info": {
   "codemirror_mode": {
    "name": "ipython",
    "version": 3
   },
   "file_extension": ".py",
   "mimetype": "text/x-python",
   "name": "python",
   "nbconvert_exporter": "python",
   "pygments_lexer": "ipython3",
   "version": "3.11.4"
  },
  "orig_nbformat": 4
 },
 "nbformat": 4,
 "nbformat_minor": 2
}
