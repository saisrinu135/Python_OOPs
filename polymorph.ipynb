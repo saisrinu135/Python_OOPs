{
 "cells": [
  {
   "cell_type": "code",
   "execution_count": 1,
   "metadata": {},
   "outputs": [],
   "source": [
    "class pys:\n",
    "    def __init__(self,m):\n",
    "        self.m=m\n",
    "    def __add__(self,other):\n",
    "        res = tuple(self.m)+tuple(other.m)\n",
    "        return res\n",
    "    \n",
    "    def __sub__(self,other):\n",
    "        return self.m-other.m\n",
    "\n",
    "a=pys([10])\n",
    "b=pys([10])"
   ]
  },
  {
   "cell_type": "code",
   "execution_count": 2,
   "metadata": {},
   "outputs": [
    {
     "name": "stdout",
     "output_type": "stream",
     "text": [
      "(10, 10)\n"
     ]
    }
   ],
   "source": [
    "c=a+b\n",
    "print(c)"
   ]
  },
  {
   "cell_type": "code",
   "execution_count": 14,
   "metadata": {},
   "outputs": [],
   "source": [
    "class pys:\n",
    "    def __init__(self,m):\n",
    "        self.m=m\n",
    "    def __add__(self,other):\n",
    "        res = tuple(self.m)+tuple(other.m)\n",
    "        return res\n",
    "    def __sub__(self,other):\n",
    "        x=list(self.m)\n",
    "        y=list(other.m)\n",
    "        if len(x)!=len(y):\n",
    "            if len(x)<len(y):\n",
    "                res = len(y)-len(x)\n",
    "                x+=([0]*res)\n",
    "            else:\n",
    "                res = len(x)-len(y)\n",
    "                y+=([0]*res)\n",
    "        u=[]\n",
    "        for i in range(0,len(x)):\n",
    "            u+=[x[i]-y[i]]\n",
    "        return u\n",
    "    def __mul__(self,other):\n",
    "        l=[]\n",
    "        for i,j in zip(self.m,other.m):\n",
    "            l+=[i*j]\n",
    "        return l\n",
    "\n",
    "a=pys([10,20,30,40])\n",
    "b=pys([30,40,50])"
   ]
  },
  {
   "cell_type": "code",
   "execution_count": 15,
   "metadata": {},
   "outputs": [
    {
     "data": {
      "text/plain": [
       "[300, 800, 1500]"
      ]
     },
     "execution_count": 15,
     "metadata": {},
     "output_type": "execute_result"
    }
   ],
   "source": [
    "a*b"
   ]
  }
 ],
 "metadata": {
  "kernelspec": {
   "display_name": "Python 3",
   "language": "python",
   "name": "python3"
  },
  "language_info": {
   "codemirror_mode": {
    "name": "ipython",
    "version": 3
   },
   "file_extension": ".py",
   "mimetype": "text/x-python",
   "name": "python",
   "nbconvert_exporter": "python",
   "pygments_lexer": "ipython3",
   "version": "3.11.4"
  },
  "orig_nbformat": 4
 },
 "nbformat": 4,
 "nbformat_minor": 2
}
