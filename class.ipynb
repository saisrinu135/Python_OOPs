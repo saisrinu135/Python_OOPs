{
 "cells": [
  {
   "cell_type": "code",
   "execution_count": null,
   "metadata": {},
   "outputs": [],
   "source": [
    "class mobile:\n",
    "    company_name = \"Oneplus\"\n",
    "    tollno = \"1800 999 111\"\n",
    "    os = \"Oxygen OS\"\n",
    "    usb_type = \"USB-C\"\n",
    "    case = \"clear case\"\n",
    "    sim_slots = \"hybrid\"\n",
    "\n",
    "#This method directly initialize the class states inside the class"
   ]
  },
  {
   "cell_type": "code",
   "execution_count": null,
   "metadata": {},
   "outputs": [],
   "source": [
    "class oneplus_mobile:\n",
    "    @classmethod\n",
    "    def create(cls):\n",
    "        cls.company_name = \"Oneplus\"\n",
    "        cls.tollno = \"1800 999 111\"\n",
    "        cls.os = \"OxygenOS\"\n",
    "        cls.usb_type = \"Type-c\"\n",
    "        cls.case = 'Clear case'\n",
    "oneplus_mobile.create()\n",
    "#In this method when we call the classmethod then only it will initialize the static states inside the class"
   ]
  },
  {
   "cell_type": "code",
   "execution_count": null,
   "metadata": {},
   "outputs": [],
   "source": [
    "print(mobile.__dict__)\n",
    "print(oneplus_mobile.__dict__)"
   ]
  },
  {
   "cell_type": "code",
   "execution_count": 1,
   "metadata": {},
   "outputs": [
    {
     "name": "stdout",
     "output_type": "stream",
     "text": [
      "Oneplus 1800 999 111 Oxygen OS USB-C clear case hybrid\n"
     ]
    }
   ],
   "source": [
    "#fetching the static states from the class\n",
    "\n",
    "#Method 1\n",
    "class mobile:\n",
    "    company_name = \"Oneplus\"\n",
    "    tollno = \"1800 999 111\"\n",
    "    os = \"Oxygen OS\"\n",
    "    usb_type = \"USB-C\"\n",
    "    case = \"clear case\"\n",
    "    sim_slots = \"hybrid\"\n",
    "    print(company_name,tollno,os,usb_type,case,sim_slots) #in this method the "
   ]
  },
  {
   "cell_type": "code",
   "execution_count": 2,
   "metadata": {},
   "outputs": [
    {
     "name": "stdout",
     "output_type": "stream",
     "text": [
      "Oneplus 1800 999 111 clear case Oxygen OS hybrid\n"
     ]
    }
   ],
   "source": [
    "#method 2\n",
    "\n",
    "class mobile1:\n",
    "    company_name = \"Oneplus\"\n",
    "    tollno = \"1800 999 111\"\n",
    "    os = \"Oxygen OS\"\n",
    "    usb_type = \"USB-C\"\n",
    "    case = \"clear case\"\n",
    "    sim_slots = \"hybrid\"\n",
    "print(mobile1.company_name,mobile1.tollno,mobile1.case,mobile1.os,mobile1.sim_slots)"
   ]
  },
  {
   "cell_type": "code",
   "execution_count": 3,
   "metadata": {},
   "outputs": [
    {
     "name": "stdout",
     "output_type": "stream",
     "text": [
      "Oneplus Oxygen OS 1800 999 111 USB-C clear case\n"
     ]
    }
   ],
   "source": [
    "#method 3\n",
    "class mobile2:                  #in this method fetch the static states inside the class by using static method\n",
    "    company_name = \"Oneplus\"\n",
    "    tollno = \"1800 999 111\"\n",
    "    os = \"Oxygen OS\"\n",
    "    usb_type = \"USB-C\"\n",
    "    case = \"clear case\"\n",
    "    sim_slots = \"hybrid\"\n",
    "    def display(cls):          #defining the display function using cls\n",
    "        print(cls.company_name,cls.os,cls.tollno,cls.usb_type,cls.case)\n",
    "mobile2.display(mobile2)       #calling the display function static method and passing  the class address inside the method"
   ]
  },
  {
   "cell_type": "code",
   "execution_count": 4,
   "metadata": {},
   "outputs": [
    {
     "name": "stdout",
     "output_type": "stream",
     "text": [
      "Oneplus Oxygen OS 1800 999 111 clear case USB-C\n"
     ]
    }
   ],
   "source": [
    "#method 4\n",
    "\n",
    "class mobile3:                  #in this method fetch the static states inside the class by using decorator.\n",
    "    company_name = \"Oneplus\"\n",
    "    tollno = \"1800 999 111\"\n",
    "    os = \"Oxygen OS\"\n",
    "    usb_type = \"USB-C\"\n",
    "    case = \"clear case\"\n",
    "    sim_slots = \"hybrid\"\n",
    "    @classmethod                #dynamically assigns the class address inside the class method by using the decorator\n",
    "    def display(cls):\n",
    "        print(cls.company_name,cls.os,cls.tollno,cls.case,cls.usb_type)\n",
    "mobile3.display()               #calling the call method outside of the class by using class address"
   ]
  },
  {
   "cell_type": "code",
   "execution_count": null,
   "metadata": {},
   "outputs": [],
   "source": [
    "#modifying the states in the class\n",
    "#method 1\n",
    "class mobile11:\n",
    "    company_name = \"Oneplus\"\n",
    "    tollno = \"1800 999 111\"\n",
    "    os = \"Oxygen OS\"\n",
    "    print(company_name,tollno,os)\n",
    "    os = \"CO2 OS\"\n",
    "    print(company_name,tollno,os)\n"
   ]
  },
  {
   "cell_type": "code",
   "execution_count": null,
   "metadata": {},
   "outputs": [],
   "source": [
    "#method 2\n",
    "\n",
    "class mobile22:\n",
    "    company_name = \"Oneplus\"\n",
    "    tollno = \"1800 999 111\"\n",
    "    os = \"Oxygen OS\"\n",
    "    print(company_name,tollno,os)\n",
    "\n",
    "mobile22.os='CO2 OS'\n",
    "print(mobile22.company_name,mobile22.os,mobile22.tollno)\n"
   ]
  },
  {
   "cell_type": "code",
   "execution_count": null,
   "metadata": {},
   "outputs": [],
   "source": [
    "#method 3\n",
    "\n",
    "class mobile33:\n",
    "    company_name = \"Oneplus\"\n",
    "    tollno = \"1800 999 111\"\n",
    "    os = \"Oxygen OS\"\n",
    "\n",
    "    #display method\n",
    "    def display(cls):\n",
    "        print(cls.company_name,cls.os,cls.tollno)\n",
    "    \n",
    "    #modify method\n",
    "    def modify(cls):\n",
    "        cls.company_name = \"Redmi\"\n",
    "        cls.os = \"CO2 OS\"\n",
    "        cls.tollno = '1800 999 999'\n",
    "\n",
    "mobile33.display(mobile33)\n",
    "mobile33.modify(mobile33)\n",
    "mobile33.display(mobile33)"
   ]
  },
  {
   "cell_type": "code",
   "execution_count": null,
   "metadata": {},
   "outputs": [],
   "source": [
    "#method 4\n",
    "class mobile44:\n",
    "    company_name = \"Oneplus\"\n",
    "    tollno = \"1800 999 111\"\n",
    "    os = \"Oxygen OS\"\n",
    "\n",
    "    #display method\n",
    "    @classmethod\n",
    "    def display(cls):\n",
    "        print(cls.company_name,cls.os,cls.tollno)\n",
    "    \n",
    "    #modify method\n",
    "    @classmethod\n",
    "    def modify(cls):\n",
    "        cls.company_name = \"Redmi\"\n",
    "        cls.os = \"CO2 OS\"\n",
    "        cls.tollno = '1800 9999 099'\n",
    "\n",
    "mobile44.display()\n",
    "mobile44.modify()\n",
    "mobile44.display()"
   ]
  },
  {
   "cell_type": "code",
   "execution_count": null,
   "metadata": {},
   "outputs": [],
   "source": [
    "#deleting the states\n",
    "\n",
    "class delmethod1:\n",
    "    company_name = \"Oneplus\"\n",
    "    tollno = \"1800 999 111\"\n",
    "    os = \"Oxygen OS\"\n",
    "    print(company_name,tollno,os)\n",
    "    del tollno\n",
    "    print(company_name,tollno,os)  #raises name error because the state tollno is deleted"
   ]
  },
  {
   "cell_type": "code",
   "execution_count": null,
   "metadata": {},
   "outputs": [],
   "source": [
    "class delmethod2:\n",
    "    company_name = \"Oneplus\"\n",
    "    tollno = \"1800 999 111\"\n",
    "    os = \"Oxygen OS\"\n",
    "    print(company_name,os,tollno)\n",
    "del delmethod2.tollno\n",
    "print(delmethod2.company_name,delmethod2.os,delmethod2.tollno)"
   ]
  },
  {
   "cell_type": "code",
   "execution_count": null,
   "metadata": {},
   "outputs": [],
   "source": [
    "class delmethod3:\n",
    "    company_name = \"Oneplus\"\n",
    "    tollno = \"1800 999 111\"\n",
    "    os = \"Oxygen OS\"\n",
    "\n",
    "    @classmethod\n",
    "    def display(cls):\n",
    "        print(cls.company_name,cls.os,cls.tollno)\n",
    "    @classmethod\n",
    "    def delete(cls):\n",
    "        del cls.tollno\n",
    "    \n",
    "delmethod3.display()\n",
    "delmethod3.delete()\n",
    "delmethod3.display()        #AttributeError is raised as tollno attribute hasbeen deleted"
   ]
  },
  {
   "cell_type": "code",
   "execution_count": 1,
   "metadata": {},
   "outputs": [],
   "source": [
    "#object creation methods\n",
    "\n",
    "#method 1:\n",
    "class bank:\n",
    "    name = 'sbi'\n",
    "    ifsc = 'sbin'\n",
    "    address = 'ghatkesar'\n",
    "obj1 = bank()   #object creation\n",
    "obj1.name = 'sai'\n",
    "obj1.age = 22\n",
    "obj1.address = 'hyd'\n",
    "obj1.account_type = 'savings'"
   ]
  },
  {
   "cell_type": "code",
   "execution_count": 2,
   "metadata": {},
   "outputs": [
    {
     "data": {
      "text/plain": [
       "{'name': 'sai', 'age': 22, 'address': 'hyd', 'account_type': 'savings'}"
      ]
     },
     "execution_count": 2,
     "metadata": {},
     "output_type": "execute_result"
    }
   ],
   "source": [
    "obj1.__dict__"
   ]
  },
  {
   "cell_type": "code",
   "execution_count": 2,
   "metadata": {},
   "outputs": [],
   "source": [
    "#method 2:\n",
    "class bank:\n",
    "    name = 'sbi'\n",
    "    ifsc = 'adb'\n",
    "    address = 'hyd'\n",
    "obj1 = bank() #object creation\n",
    "\n",
    "#initialize non static states in the object using function\n",
    "\n",
    "def create_object(self,name,age,accounttype,date):\n",
    "    self.name=name\n",
    "    self.age=age\n",
    "    self.accounttype = accounttype\n",
    "    self.date=date\n",
    "create_object(obj1,'sai',22,'savings','06172000')"
   ]
  },
  {
   "cell_type": "code",
   "execution_count": null,
   "metadata": {},
   "outputs": [],
   "source": [
    "#obj1.__dict__"
   ]
  },
  {
   "cell_type": "code",
   "execution_count": 7,
   "metadata": {},
   "outputs": [],
   "source": [
    "#method 3:\n",
    "class bank:\n",
    "    name = 'sbi'\n",
    "    ifsc = 'sbin'\n",
    "    address = 'hyd'\n",
    "    #initialization of non static states inside the class using static method\n",
    "    def create_object(self,name,age,accounttype,date):\n",
    "        self.name = name\n",
    "        self.age=age\n",
    "        self.accounttype=accounttype\n",
    "        self.date=date\n",
    "obj1 = bank()\n",
    "\n",
    "bank.create_object(obj1,'srinu',22,'savings','07172000')"
   ]
  },
  {
   "cell_type": "code",
   "execution_count": 8,
   "metadata": {},
   "outputs": [
    {
     "data": {
      "text/plain": [
       "{'name': 'srinu', 'age': 22, 'accounttype': 'savings', 'date': '07172000'}"
      ]
     },
     "execution_count": 8,
     "metadata": {},
     "output_type": "execute_result"
    }
   ],
   "source": [
    "obj1.__dict__"
   ]
  },
  {
   "cell_type": "code",
   "execution_count": 13,
   "metadata": {},
   "outputs": [],
   "source": [
    "#method 4:\n",
    "class bank:\n",
    "    name = 'adb'\n",
    "    ifdc = 'adb'\n",
    "    address = 'hyd'\n",
    "    #initialize the non static states inside the class by using constructor\n",
    "    def __init__(self,name,age,accounttype,date):\n",
    "        self.name = name\n",
    "        self.age = age\n",
    "        self.accounttype=accounttype\n",
    "        self.date = date\n",
    "obj1 = bank('ss',23,'savings',7172000)"
   ]
  },
  {
   "cell_type": "code",
   "execution_count": 14,
   "metadata": {},
   "outputs": [
    {
     "data": {
      "text/plain": [
       "{'name': 'ss', 'age': 23, 'accounttype': 'savings', 'date': 7172000}"
      ]
     },
     "execution_count": 14,
     "metadata": {},
     "output_type": "execute_result"
    }
   ],
   "source": [
    "obj1.__dict__"
   ]
  },
  {
   "cell_type": "code",
   "execution_count": null,
   "metadata": {},
   "outputs": [],
   "source": [
    "#object intialization\n",
    "\n",
    "class person:\n",
    "    a = 10      #static states\n",
    "    b = 20      #static states\n",
    "    def __init__(self):\n",
    "        self.name = 'sai'\n",
    "        self.age = 22\n",
    "        self.phone = 9999999999\n",
    "\n",
    "sai = person()\n",
    "rani = person()"
   ]
  },
  {
   "cell_type": "code",
   "execution_count": null,
   "metadata": {},
   "outputs": [],
   "source": [
    "sai.__dict__"
   ]
  },
  {
   "cell_type": "code",
   "execution_count": null,
   "metadata": {},
   "outputs": [],
   "source": [
    "rani.__dict__    #names are not changed as rani due to static states of class"
   ]
  },
  {
   "cell_type": "code",
   "execution_count": null,
   "metadata": {},
   "outputs": [],
   "source": [
    "class person:\n",
    "    a = 10          #statuc states\n",
    "    b = 20          #static states\n",
    "    def __init__(self,name,age,phone):   #constructor (initializes the non static states)  # 'self' is the object address \n",
    "        self.name=name          #non static states\n",
    "        self.age=age            #non static states\n",
    "        self.phone=phone        #non static states\n",
    "sai = person('sai',22,9999999999)       #object is initialized automatically (automatically init method is called)\n",
    "rani = person('rani',23,8888888888)"
   ]
  },
  {
   "cell_type": "code",
   "execution_count": null,
   "metadata": {},
   "outputs": [],
   "source": [
    "sai.__dict__"
   ]
  },
  {
   "cell_type": "code",
   "execution_count": null,
   "metadata": {},
   "outputs": [],
   "source": [
    "rani.__dict__"
   ]
  },
  {
   "cell_type": "code",
   "execution_count": 14,
   "metadata": {},
   "outputs": [],
   "source": [
    "class demo:\n",
    "    user = 'family'\n",
    "\n",
    "    def create_object_states(self,name,age,phone):\n",
    "        self.name=name\n",
    "        self.age=age\n",
    "        self.phone=phone\n",
    "obj1=demo()"
   ]
  },
  {
   "cell_type": "code",
   "execution_count": null,
   "metadata": {},
   "outputs": [],
   "source": [
    "obj2=demo()"
   ]
  },
  {
   "cell_type": "code",
   "execution_count": 13,
   "metadata": {},
   "outputs": [
    {
     "data": {
      "text/plain": [
       "{'name': 'sai', 'age': 23, 'phone': 9999999999}"
      ]
     },
     "execution_count": 13,
     "metadata": {},
     "output_type": "execute_result"
    }
   ],
   "source": [
    "obj1.__dict__"
   ]
  },
  {
   "cell_type": "code",
   "execution_count": 12,
   "metadata": {},
   "outputs": [],
   "source": [
    "obj1.create_object_states('sai',23,9999999999)"
   ]
  }
 ],
 "metadata": {
  "kernelspec": {
   "display_name": "Python 3",
   "language": "python",
   "name": "python3"
  },
  "language_info": {
   "codemirror_mode": {
    "name": "ipython",
    "version": 3
   },
   "file_extension": ".py",
   "mimetype": "text/x-python",
   "name": "python",
   "nbconvert_exporter": "python",
   "pygments_lexer": "ipython3",
   "version": "3.11.4"
  },
  "orig_nbformat": 4
 },
 "nbformat": 4,
 "nbformat_minor": 2
}
