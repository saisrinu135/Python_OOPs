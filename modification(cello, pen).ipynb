{
 "cells": [
  {
   "cell_type": "code",
   "execution_count": 16,
   "metadata": {},
   "outputs": [],
   "source": [
    "class pen():\n",
    "    price=20\n",
    "    color='red'\n",
    "cello=pen()"
   ]
  },
  {
   "cell_type": "code",
   "execution_count": 17,
   "metadata": {},
   "outputs": [
    {
     "name": "stdout",
     "output_type": "stream",
     "text": [
      "red 20\n",
      "red 20\n"
     ]
    }
   ],
   "source": [
    "print(pen.color,pen.price)\n",
    "print(cello.color,cello.price)"
   ]
  },
  {
   "cell_type": "code",
   "execution_count": 18,
   "metadata": {},
   "outputs": [],
   "source": [
    "pen.company = 'cello'"
   ]
  },
  {
   "cell_type": "code",
   "execution_count": 19,
   "metadata": {},
   "outputs": [
    {
     "name": "stdout",
     "output_type": "stream",
     "text": [
      "cello red 20\n",
      "cello red 20\n"
     ]
    }
   ],
   "source": [
    "print(pen.company,pen.color,pen.price)\n",
    "print(cello.company,cello.color,cello.price)"
   ]
  },
  {
   "cell_type": "code",
   "execution_count": 20,
   "metadata": {},
   "outputs": [],
   "source": [
    "cello.color='black' #changes object state with object address doesnot impact on class"
   ]
  },
  {
   "cell_type": "code",
   "execution_count": 21,
   "metadata": {},
   "outputs": [
    {
     "name": "stdout",
     "output_type": "stream",
     "text": [
      "black 20\n",
      "red 20\n"
     ]
    }
   ],
   "source": [
    "print(cello.color,cello.price)\n",
    "print(pen.color,pen.price)"
   ]
  },
  {
   "cell_type": "code",
   "execution_count": 9,
   "metadata": {},
   "outputs": [],
   "source": [
    "cello.type = 'ball'"
   ]
  },
  {
   "cell_type": "code",
   "execution_count": 10,
   "metadata": {},
   "outputs": [
    {
     "name": "stdout",
     "output_type": "stream",
     "text": [
      "ball\n"
     ]
    },
    {
     "ename": "AttributeError",
     "evalue": "type object 'pen' has no attribute 'type'",
     "output_type": "error",
     "traceback": [
      "\u001b[1;31m---------------------------------------------------------------------------\u001b[0m",
      "\u001b[1;31mAttributeError\u001b[0m                            Traceback (most recent call last)",
      "Cell \u001b[1;32mIn[10], line 2\u001b[0m\n\u001b[0;32m      1\u001b[0m \u001b[39mprint\u001b[39m(cello\u001b[39m.\u001b[39mtype)\n\u001b[1;32m----> 2\u001b[0m \u001b[39mprint\u001b[39m(pen\u001b[39m.\u001b[39;49mtype)\n",
      "\u001b[1;31mAttributeError\u001b[0m: type object 'pen' has no attribute 'type'"
     ]
    }
   ],
   "source": [
    "print(cello.type)   #creates attribute for object\n",
    "print(pen.type) #no type attrubute for class"
   ]
  },
  {
   "cell_type": "code",
   "execution_count": 15,
   "metadata": {},
   "outputs": [
    {
     "ename": "AttributeError",
     "evalue": "'pen' object has no attribute 'type'",
     "output_type": "error",
     "traceback": [
      "\u001b[1;31m---------------------------------------------------------------------------\u001b[0m",
      "\u001b[1;31mAttributeError\u001b[0m                            Traceback (most recent call last)",
      "Cell \u001b[1;32mIn[15], line 1\u001b[0m\n\u001b[1;32m----> 1\u001b[0m \u001b[39mdel\u001b[39;00m cello\u001b[39m.\u001b[39;49mtype\n",
      "\u001b[1;31mAttributeError\u001b[0m: 'pen' object has no attribute 'type'"
     ]
    }
   ],
   "source": [
    "del cello.type"
   ]
  },
  {
   "cell_type": "code",
   "execution_count": 14,
   "metadata": {},
   "outputs": [
    {
     "ename": "AttributeError",
     "evalue": "'pen' object has no attribute 'type'",
     "output_type": "error",
     "traceback": [
      "\u001b[1;31m---------------------------------------------------------------------------\u001b[0m",
      "\u001b[1;31mAttributeError\u001b[0m                            Traceback (most recent call last)",
      "Cell \u001b[1;32mIn[14], line 1\u001b[0m\n\u001b[1;32m----> 1\u001b[0m \u001b[39mprint\u001b[39m(cello\u001b[39m.\u001b[39;49mtype)\n\u001b[0;32m      2\u001b[0m \u001b[39mprint\u001b[39m(pen\u001b[39m.\u001b[39mtype)\n",
      "\u001b[1;31mAttributeError\u001b[0m: 'pen' object has no attribute 'type'"
     ]
    }
   ],
   "source": [
    "print(cello.type)\n",
    "print(pen.type)"
   ]
  }
 ],
 "metadata": {
  "kernelspec": {
   "display_name": "Python 3",
   "language": "python",
   "name": "python3"
  },
  "language_info": {
   "codemirror_mode": {
    "name": "ipython",
    "version": 3
   },
   "file_extension": ".py",
   "mimetype": "text/x-python",
   "name": "python",
   "nbconvert_exporter": "python",
   "pygments_lexer": "ipython3",
   "version": "3.11.4"
  },
  "orig_nbformat": 4
 },
 "nbformat": 4,
 "nbformat_minor": 2
}
