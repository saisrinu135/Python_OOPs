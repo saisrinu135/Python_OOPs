{
 "cells": [
  {
   "cell_type": "code",
   "execution_count": 1,
   "metadata": {},
   "outputs": [],
   "source": [
    "class college:\n",
    "    coll_name = \"Devi\"\n",
    "    address = \"hyd\"\n",
    "    def __init__(self,name,age):\n",
    "        self.name = name\n",
    "        self.age=age\n",
    "    \n",
    "    def modify(self,age_value):\n",
    "        self.age = age_value\n",
    "\n",
    "    def age_delete(self):\n",
    "        del self.age\n",
    "    \n",
    "    def create_email(self,email):\n",
    "        self.email = email\n",
    "\n",
    "    def display(self):\n",
    "        print(self.__dict__)"
   ]
  }
 ],
 "metadata": {
  "kernelspec": {
   "display_name": "Python 3",
   "language": "python",
   "name": "python3"
  },
  "language_info": {
   "codemirror_mode": {
    "name": "ipython",
    "version": 3
   },
   "file_extension": ".py",
   "mimetype": "text/x-python",
   "name": "python",
   "nbconvert_exporter": "python",
   "pygments_lexer": "ipython3",
   "version": "3.11.4"
  },
  "orig_nbformat": 4
 },
 "nbformat": 4,
 "nbformat_minor": 2
}
